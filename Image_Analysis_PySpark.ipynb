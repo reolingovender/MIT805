{
  "nbformat": 4,
  "nbformat_minor": 0,
  "metadata": {
    "colab": {
      "provenance": [],
      "authorship_tag": "ABX9TyPozsePEOQpy0Y2E2MFZZJ7",
      "include_colab_link": true
    },
    "kernelspec": {
      "name": "python3",
      "display_name": "Python 3"
    },
    "language_info": {
      "name": "python"
    }
  },
  "cells": [
    {
      "cell_type": "markdown",
      "metadata": {
        "id": "view-in-github",
        "colab_type": "text"
      },
      "source": [
        "<a href=\"https://colab.research.google.com/github/reolingovender/MIT805/blob/main/Image_Analysis_PySpark.ipynb\" target=\"_parent\"><img src=\"https://colab.research.google.com/assets/colab-badge.svg\" alt=\"Open In Colab\"/></a>"
      ]
    },
    {
      "cell_type": "code",
      "execution_count": 28,
      "metadata": {
        "colab": {
          "base_uri": "https://localhost:8080/"
        },
        "id": "9F4TI2KTsj9-",
        "outputId": "b24dcdca-403b-4b1d-f030-ec9b777de78b"
      },
      "outputs": [
        {
          "output_type": "stream",
          "name": "stdout",
          "text": [
            "Requirement already satisfied: datasets in /usr/local/lib/python3.10/dist-packages (3.0.1)\n",
            "Requirement already satisfied: filelock in /usr/local/lib/python3.10/dist-packages (from datasets) (3.16.1)\n",
            "Requirement already satisfied: numpy>=1.17 in /usr/local/lib/python3.10/dist-packages (from datasets) (1.26.4)\n",
            "Requirement already satisfied: pyarrow>=15.0.0 in /usr/local/lib/python3.10/dist-packages (from datasets) (16.1.0)\n",
            "Requirement already satisfied: dill<0.3.9,>=0.3.0 in /usr/local/lib/python3.10/dist-packages (from datasets) (0.3.8)\n",
            "Requirement already satisfied: pandas in /usr/local/lib/python3.10/dist-packages (from datasets) (2.2.2)\n",
            "Requirement already satisfied: requests>=2.32.2 in /usr/local/lib/python3.10/dist-packages (from datasets) (2.32.3)\n",
            "Requirement already satisfied: tqdm>=4.66.3 in /usr/local/lib/python3.10/dist-packages (from datasets) (4.66.5)\n",
            "Requirement already satisfied: xxhash in /usr/local/lib/python3.10/dist-packages (from datasets) (3.5.0)\n",
            "Requirement already satisfied: multiprocess in /usr/local/lib/python3.10/dist-packages (from datasets) (0.70.16)\n",
            "Requirement already satisfied: fsspec<=2024.6.1,>=2023.1.0 in /usr/local/lib/python3.10/dist-packages (from fsspec[http]<=2024.6.1,>=2023.1.0->datasets) (2024.6.1)\n",
            "Requirement already satisfied: aiohttp in /usr/local/lib/python3.10/dist-packages (from datasets) (3.10.10)\n",
            "Requirement already satisfied: huggingface-hub>=0.22.0 in /usr/local/lib/python3.10/dist-packages (from datasets) (0.24.7)\n",
            "Requirement already satisfied: packaging in /usr/local/lib/python3.10/dist-packages (from datasets) (24.1)\n",
            "Requirement already satisfied: pyyaml>=5.1 in /usr/local/lib/python3.10/dist-packages (from datasets) (6.0.2)\n",
            "Requirement already satisfied: aiohappyeyeballs>=2.3.0 in /usr/local/lib/python3.10/dist-packages (from aiohttp->datasets) (2.4.3)\n",
            "Requirement already satisfied: aiosignal>=1.1.2 in /usr/local/lib/python3.10/dist-packages (from aiohttp->datasets) (1.3.1)\n",
            "Requirement already satisfied: attrs>=17.3.0 in /usr/local/lib/python3.10/dist-packages (from aiohttp->datasets) (24.2.0)\n",
            "Requirement already satisfied: frozenlist>=1.1.1 in /usr/local/lib/python3.10/dist-packages (from aiohttp->datasets) (1.4.1)\n",
            "Requirement already satisfied: multidict<7.0,>=4.5 in /usr/local/lib/python3.10/dist-packages (from aiohttp->datasets) (6.1.0)\n",
            "Requirement already satisfied: yarl<2.0,>=1.12.0 in /usr/local/lib/python3.10/dist-packages (from aiohttp->datasets) (1.14.0)\n",
            "Requirement already satisfied: async-timeout<5.0,>=4.0 in /usr/local/lib/python3.10/dist-packages (from aiohttp->datasets) (4.0.3)\n",
            "Requirement already satisfied: typing-extensions>=3.7.4.3 in /usr/local/lib/python3.10/dist-packages (from huggingface-hub>=0.22.0->datasets) (4.12.2)\n",
            "Requirement already satisfied: charset-normalizer<4,>=2 in /usr/local/lib/python3.10/dist-packages (from requests>=2.32.2->datasets) (3.4.0)\n",
            "Requirement already satisfied: idna<4,>=2.5 in /usr/local/lib/python3.10/dist-packages (from requests>=2.32.2->datasets) (3.10)\n",
            "Requirement already satisfied: urllib3<3,>=1.21.1 in /usr/local/lib/python3.10/dist-packages (from requests>=2.32.2->datasets) (2.2.3)\n",
            "Requirement already satisfied: certifi>=2017.4.17 in /usr/local/lib/python3.10/dist-packages (from requests>=2.32.2->datasets) (2024.8.30)\n",
            "Requirement already satisfied: python-dateutil>=2.8.2 in /usr/local/lib/python3.10/dist-packages (from pandas->datasets) (2.8.2)\n",
            "Requirement already satisfied: pytz>=2020.1 in /usr/local/lib/python3.10/dist-packages (from pandas->datasets) (2024.2)\n",
            "Requirement already satisfied: tzdata>=2022.7 in /usr/local/lib/python3.10/dist-packages (from pandas->datasets) (2024.2)\n",
            "Requirement already satisfied: six>=1.5 in /usr/local/lib/python3.10/dist-packages (from python-dateutil>=2.8.2->pandas->datasets) (1.16.0)\n",
            "Requirement already satisfied: propcache>=0.2.0 in /usr/local/lib/python3.10/dist-packages (from yarl<2.0,>=1.12.0->aiohttp->datasets) (0.2.0)\n"
          ]
        }
      ],
      "source": [
        "pip install datasets"
      ]
    },
    {
      "cell_type": "code",
      "source": [
        "# install msodbcsql18\n",
        "%%sh\n",
        "apt-get install -y unixodbc-dev\n",
        "curl https://packages.microsoft.com/keys/microsoft.asc | apt-key add -\n",
        "curl https://packages.microsoft.com/config/ubuntu/$(lsb_release -rs)/prod.list > /etc/apt/sources.list.d/mssql-release.list\n",
        "sudo apt-get update\n",
        "sudo ACCEPT_EULA=Y apt-get -q -y install msodbcsql18"
      ],
      "metadata": {
        "colab": {
          "base_uri": "https://localhost:8080/"
        },
        "id": "LohPWxrj8NFy",
        "outputId": "851780fc-0148-46a7-eedd-fe2af812f0c4"
      },
      "execution_count": 29,
      "outputs": [
        {
          "output_type": "stream",
          "name": "stdout",
          "text": [
            "Reading package lists...\n",
            "Building dependency tree...\n",
            "Reading state information...\n",
            "unixodbc-dev is already the newest version (2.3.9-5ubuntu0.1).\n",
            "0 upgraded, 0 newly installed, 0 to remove and 51 not upgraded.\n",
            "OK\n",
            "Hit:1 http://archive.ubuntu.com/ubuntu jammy InRelease\n",
            "Get:2 http://archive.ubuntu.com/ubuntu jammy-updates InRelease [128 kB]\n",
            "Hit:3 https://packages.microsoft.com/ubuntu/22.04/prod jammy InRelease\n",
            "Hit:4 https://cloud.r-project.org/bin/linux/ubuntu jammy-cran40/ InRelease\n",
            "Hit:5 https://developer.download.nvidia.com/compute/cuda/repos/ubuntu2204/x86_64  InRelease\n",
            "Get:6 http://security.ubuntu.com/ubuntu jammy-security InRelease [129 kB]\n",
            "Hit:7 http://archive.ubuntu.com/ubuntu jammy-backports InRelease\n",
            "Ign:8 https://r2u.stat.illinois.edu/ubuntu jammy InRelease\n",
            "Get:9 https://r2u.stat.illinois.edu/ubuntu jammy Release [5,713 B]\n",
            "Get:10 https://r2u.stat.illinois.edu/ubuntu jammy Release.gpg [793 B]\n",
            "Hit:11 https://ppa.launchpadcontent.net/deadsnakes/ppa/ubuntu jammy InRelease\n",
            "Hit:12 https://ppa.launchpadcontent.net/graphics-drivers/ppa/ubuntu jammy InRelease\n",
            "Hit:13 https://ppa.launchpadcontent.net/ubuntugis/ppa/ubuntu jammy InRelease\n",
            "Get:14 https://r2u.stat.illinois.edu/ubuntu jammy/main amd64 Packages [2,596 kB]\n",
            "Get:15 https://r2u.stat.illinois.edu/ubuntu jammy/main all Packages [8,391 kB]\n",
            "Fetched 11.2 MB in 3s (3,339 kB/s)\n",
            "Reading package lists...\n",
            "Reading package lists...\n",
            "Building dependency tree...\n",
            "Reading state information...\n",
            "msodbcsql18 is already the newest version (18.4.1.1-1).\n",
            "0 upgraded, 0 newly installed, 0 to remove and 52 not upgraded.\n"
          ]
        },
        {
          "output_type": "stream",
          "name": "stderr",
          "text": [
            "  % Total    % Received % Xferd  Average Speed   Time    Time     Time  Current\n",
            "                                 Dload  Upload   Total   Spent    Left  Speed\n",
            "\r  0     0    0     0    0     0      0      0 --:--:-- --:--:-- --:--:--     0\r100   983  100   983    0     0   2897      0 --:--:-- --:--:-- --:--:--  2899\n",
            "Warning: apt-key is deprecated. Manage keyring files in trusted.gpg.d instead (see apt-key(8)).\n",
            "  % Total    % Received % Xferd  Average Speed   Time    Time     Time  Current\n",
            "                                 Dload  Upload   Total   Spent    Left  Speed\n",
            "\r  0     0    0     0    0     0      0      0 --:--:-- --:--:-- --:--:--     0\r100    88  100    88    0     0    362      0 --:--:-- --:--:-- --:--:--   363\n",
            "W: https://packages.microsoft.com/ubuntu/22.04/prod/dists/jammy/InRelease: Key is stored in legacy trusted.gpg keyring (/etc/apt/trusted.gpg), see the DEPRECATION section in apt-key(8) for details.\n",
            "W: Skipping acquire of configured file 'main/source/Sources' as repository 'https://r2u.stat.illinois.edu/ubuntu jammy InRelease' does not seem to provide it (sources.list entry misspelt?)\n"
          ]
        }
      ]
    },
    {
      "cell_type": "code",
      "source": [
        "!pip install pyodbc"
      ],
      "metadata": {
        "colab": {
          "base_uri": "https://localhost:8080/"
        },
        "id": "iCyycRTS8RXU",
        "outputId": "c99d13a7-71d0-402c-f8bd-b60cde25f9d4"
      },
      "execution_count": 30,
      "outputs": [
        {
          "output_type": "stream",
          "name": "stdout",
          "text": [
            "Requirement already satisfied: pyodbc in /usr/local/lib/python3.10/dist-packages (5.1.0)\n"
          ]
        }
      ]
    },
    {
      "cell_type": "code",
      "source": [
        "pip install pyspark\n"
      ],
      "metadata": {
        "colab": {
          "base_uri": "https://localhost:8080/"
        },
        "id": "VCtwMy9jzKXL",
        "outputId": "44685d39-7c80-4d59-a29f-abf71cf586e3"
      },
      "execution_count": 31,
      "outputs": [
        {
          "output_type": "stream",
          "name": "stdout",
          "text": [
            "Requirement already satisfied: pyspark in /usr/local/lib/python3.10/dist-packages (3.5.3)\n",
            "Requirement already satisfied: py4j==0.10.9.7 in /usr/local/lib/python3.10/dist-packages (from pyspark) (0.10.9.7)\n"
          ]
        }
      ]
    },
    {
      "cell_type": "code",
      "source": [
        "import requests\n",
        "\n",
        "ip = requests.get('https://api64.ipify.org?format=json').json()['ip']\n",
        "print(f'Your Colab IP address is: {ip}')"
      ],
      "metadata": {
        "colab": {
          "base_uri": "https://localhost:8080/"
        },
        "id": "klEGt_QvNPj8",
        "outputId": "065ee2f3-e9f9-446c-c50f-187ec626d48c"
      },
      "execution_count": 32,
      "outputs": [
        {
          "output_type": "stream",
          "name": "stdout",
          "text": [
            "Your Colab IP address is: 34.139.152.215\n"
          ]
        }
      ]
    },
    {
      "cell_type": "code",
      "source": [
        "import datasets\n",
        "from datasets import load_dataset\n",
        "import numpy as np\n",
        "import pandas as pd"
      ],
      "metadata": {
        "id": "xAge32C5skli"
      },
      "execution_count": 33,
      "outputs": []
    },
    {
      "cell_type": "code",
      "source": [
        "# Initialize Spark session\n",
        "from pyspark.sql import SparkSession\n",
        "import pyspark.sql.functions as f\n",
        "\n",
        "spark = SparkSession.builder.appName(\"Optimized PySpark\").getOrCreate()"
      ],
      "metadata": {
        "id": "GwjIHA2UzOl4"
      },
      "execution_count": 34,
      "outputs": []
    },
    {
      "cell_type": "code",
      "source": [
        "datasets.logging.set_verbosity_error()\n",
        "dataset = load_dataset(\"McAuley-Lab/Amazon-Reviews-2023\", \"raw_review_All_Beauty\", trust_remote_code=True)"
      ],
      "metadata": {
        "id": "uO4zwNX0smZ4"
      },
      "execution_count": 35,
      "outputs": []
    },
    {
      "cell_type": "code",
      "source": [
        "df = pd.DataFrame(dataset['full'])"
      ],
      "metadata": {
        "id": "a_BX8Vwbs9zn"
      },
      "execution_count": 36,
      "outputs": []
    },
    {
      "cell_type": "code",
      "source": [
        "df.head()"
      ],
      "metadata": {
        "colab": {
          "base_uri": "https://localhost:8080/",
          "height": 293
        },
        "id": "khP7UOiszAkC",
        "outputId": "6e803926-e6f9-48b7-82af-e3be5cdbaaa9"
      },
      "execution_count": 37,
      "outputs": [
        {
          "output_type": "execute_result",
          "data": {
            "text/plain": [
              "   rating                                      title  \\\n",
              "0     5.0  Such a lovely scent but not overpowering.   \n",
              "1     4.0     Works great but smells a little weird.   \n",
              "2     5.0                                       Yes!   \n",
              "3     1.0                          Synthetic feeling   \n",
              "4     5.0                                         A+   \n",
              "\n",
              "                                                text images        asin  \\\n",
              "0  This spray is really nice. It smells really go...     []  B00YQ6X8EO   \n",
              "1  This product does what I need it to do, I just...     []  B081TJ8YS3   \n",
              "2                          Smells good, feels great!     []  B07PNNCSP9   \n",
              "3                                     Felt synthetic     []  B09JS339BZ   \n",
              "4                                            Love it     []  B08BZ63GMJ   \n",
              "\n",
              "  parent_asin                       user_id      timestamp  helpful_vote  \\\n",
              "0  B00YQ6X8EO  AGKHLEW2SOWHNMFQIJGBECAF7INQ  1588687728923             0   \n",
              "1  B081TJ8YS3  AGKHLEW2SOWHNMFQIJGBECAF7INQ  1588615855070             1   \n",
              "2  B097R46CSY  AE74DYR3QUGVPZJ3P7RFWBGIX7XQ  1589665266052             2   \n",
              "3  B09JS339BZ  AFQLNQNQYFWQZPJQZS6V3NZU4QBQ  1643393630220             0   \n",
              "4  B08BZ63GMJ  AFQLNQNQYFWQZPJQZS6V3NZU4QBQ  1609322563534             0   \n",
              "\n",
              "   verified_purchase  \n",
              "0               True  \n",
              "1               True  \n",
              "2               True  \n",
              "3               True  \n",
              "4               True  "
            ],
            "text/html": [
              "\n",
              "  <div id=\"df-e163fa72-fcaa-472a-a86f-1ef7446cc18e\" class=\"colab-df-container\">\n",
              "    <div>\n",
              "<style scoped>\n",
              "    .dataframe tbody tr th:only-of-type {\n",
              "        vertical-align: middle;\n",
              "    }\n",
              "\n",
              "    .dataframe tbody tr th {\n",
              "        vertical-align: top;\n",
              "    }\n",
              "\n",
              "    .dataframe thead th {\n",
              "        text-align: right;\n",
              "    }\n",
              "</style>\n",
              "<table border=\"1\" class=\"dataframe\">\n",
              "  <thead>\n",
              "    <tr style=\"text-align: right;\">\n",
              "      <th></th>\n",
              "      <th>rating</th>\n",
              "      <th>title</th>\n",
              "      <th>text</th>\n",
              "      <th>images</th>\n",
              "      <th>asin</th>\n",
              "      <th>parent_asin</th>\n",
              "      <th>user_id</th>\n",
              "      <th>timestamp</th>\n",
              "      <th>helpful_vote</th>\n",
              "      <th>verified_purchase</th>\n",
              "    </tr>\n",
              "  </thead>\n",
              "  <tbody>\n",
              "    <tr>\n",
              "      <th>0</th>\n",
              "      <td>5.0</td>\n",
              "      <td>Such a lovely scent but not overpowering.</td>\n",
              "      <td>This spray is really nice. It smells really go...</td>\n",
              "      <td>[]</td>\n",
              "      <td>B00YQ6X8EO</td>\n",
              "      <td>B00YQ6X8EO</td>\n",
              "      <td>AGKHLEW2SOWHNMFQIJGBECAF7INQ</td>\n",
              "      <td>1588687728923</td>\n",
              "      <td>0</td>\n",
              "      <td>True</td>\n",
              "    </tr>\n",
              "    <tr>\n",
              "      <th>1</th>\n",
              "      <td>4.0</td>\n",
              "      <td>Works great but smells a little weird.</td>\n",
              "      <td>This product does what I need it to do, I just...</td>\n",
              "      <td>[]</td>\n",
              "      <td>B081TJ8YS3</td>\n",
              "      <td>B081TJ8YS3</td>\n",
              "      <td>AGKHLEW2SOWHNMFQIJGBECAF7INQ</td>\n",
              "      <td>1588615855070</td>\n",
              "      <td>1</td>\n",
              "      <td>True</td>\n",
              "    </tr>\n",
              "    <tr>\n",
              "      <th>2</th>\n",
              "      <td>5.0</td>\n",
              "      <td>Yes!</td>\n",
              "      <td>Smells good, feels great!</td>\n",
              "      <td>[]</td>\n",
              "      <td>B07PNNCSP9</td>\n",
              "      <td>B097R46CSY</td>\n",
              "      <td>AE74DYR3QUGVPZJ3P7RFWBGIX7XQ</td>\n",
              "      <td>1589665266052</td>\n",
              "      <td>2</td>\n",
              "      <td>True</td>\n",
              "    </tr>\n",
              "    <tr>\n",
              "      <th>3</th>\n",
              "      <td>1.0</td>\n",
              "      <td>Synthetic feeling</td>\n",
              "      <td>Felt synthetic</td>\n",
              "      <td>[]</td>\n",
              "      <td>B09JS339BZ</td>\n",
              "      <td>B09JS339BZ</td>\n",
              "      <td>AFQLNQNQYFWQZPJQZS6V3NZU4QBQ</td>\n",
              "      <td>1643393630220</td>\n",
              "      <td>0</td>\n",
              "      <td>True</td>\n",
              "    </tr>\n",
              "    <tr>\n",
              "      <th>4</th>\n",
              "      <td>5.0</td>\n",
              "      <td>A+</td>\n",
              "      <td>Love it</td>\n",
              "      <td>[]</td>\n",
              "      <td>B08BZ63GMJ</td>\n",
              "      <td>B08BZ63GMJ</td>\n",
              "      <td>AFQLNQNQYFWQZPJQZS6V3NZU4QBQ</td>\n",
              "      <td>1609322563534</td>\n",
              "      <td>0</td>\n",
              "      <td>True</td>\n",
              "    </tr>\n",
              "  </tbody>\n",
              "</table>\n",
              "</div>\n",
              "    <div class=\"colab-df-buttons\">\n",
              "\n",
              "  <div class=\"colab-df-container\">\n",
              "    <button class=\"colab-df-convert\" onclick=\"convertToInteractive('df-e163fa72-fcaa-472a-a86f-1ef7446cc18e')\"\n",
              "            title=\"Convert this dataframe to an interactive table.\"\n",
              "            style=\"display:none;\">\n",
              "\n",
              "  <svg xmlns=\"http://www.w3.org/2000/svg\" height=\"24px\" viewBox=\"0 -960 960 960\">\n",
              "    <path d=\"M120-120v-720h720v720H120Zm60-500h600v-160H180v160Zm220 220h160v-160H400v160Zm0 220h160v-160H400v160ZM180-400h160v-160H180v160Zm440 0h160v-160H620v160ZM180-180h160v-160H180v160Zm440 0h160v-160H620v160Z\"/>\n",
              "  </svg>\n",
              "    </button>\n",
              "\n",
              "  <style>\n",
              "    .colab-df-container {\n",
              "      display:flex;\n",
              "      gap: 12px;\n",
              "    }\n",
              "\n",
              "    .colab-df-convert {\n",
              "      background-color: #E8F0FE;\n",
              "      border: none;\n",
              "      border-radius: 50%;\n",
              "      cursor: pointer;\n",
              "      display: none;\n",
              "      fill: #1967D2;\n",
              "      height: 32px;\n",
              "      padding: 0 0 0 0;\n",
              "      width: 32px;\n",
              "    }\n",
              "\n",
              "    .colab-df-convert:hover {\n",
              "      background-color: #E2EBFA;\n",
              "      box-shadow: 0px 1px 2px rgba(60, 64, 67, 0.3), 0px 1px 3px 1px rgba(60, 64, 67, 0.15);\n",
              "      fill: #174EA6;\n",
              "    }\n",
              "\n",
              "    .colab-df-buttons div {\n",
              "      margin-bottom: 4px;\n",
              "    }\n",
              "\n",
              "    [theme=dark] .colab-df-convert {\n",
              "      background-color: #3B4455;\n",
              "      fill: #D2E3FC;\n",
              "    }\n",
              "\n",
              "    [theme=dark] .colab-df-convert:hover {\n",
              "      background-color: #434B5C;\n",
              "      box-shadow: 0px 1px 3px 1px rgba(0, 0, 0, 0.15);\n",
              "      filter: drop-shadow(0px 1px 2px rgba(0, 0, 0, 0.3));\n",
              "      fill: #FFFFFF;\n",
              "    }\n",
              "  </style>\n",
              "\n",
              "    <script>\n",
              "      const buttonEl =\n",
              "        document.querySelector('#df-e163fa72-fcaa-472a-a86f-1ef7446cc18e button.colab-df-convert');\n",
              "      buttonEl.style.display =\n",
              "        google.colab.kernel.accessAllowed ? 'block' : 'none';\n",
              "\n",
              "      async function convertToInteractive(key) {\n",
              "        const element = document.querySelector('#df-e163fa72-fcaa-472a-a86f-1ef7446cc18e');\n",
              "        const dataTable =\n",
              "          await google.colab.kernel.invokeFunction('convertToInteractive',\n",
              "                                                    [key], {});\n",
              "        if (!dataTable) return;\n",
              "\n",
              "        const docLinkHtml = 'Like what you see? Visit the ' +\n",
              "          '<a target=\"_blank\" href=https://colab.research.google.com/notebooks/data_table.ipynb>data table notebook</a>'\n",
              "          + ' to learn more about interactive tables.';\n",
              "        element.innerHTML = '';\n",
              "        dataTable['output_type'] = 'display_data';\n",
              "        await google.colab.output.renderOutput(dataTable, element);\n",
              "        const docLink = document.createElement('div');\n",
              "        docLink.innerHTML = docLinkHtml;\n",
              "        element.appendChild(docLink);\n",
              "      }\n",
              "    </script>\n",
              "  </div>\n",
              "\n",
              "\n",
              "<div id=\"df-a739ce4a-0de3-4aa7-aeae-d81db05feb6a\">\n",
              "  <button class=\"colab-df-quickchart\" onclick=\"quickchart('df-a739ce4a-0de3-4aa7-aeae-d81db05feb6a')\"\n",
              "            title=\"Suggest charts\"\n",
              "            style=\"display:none;\">\n",
              "\n",
              "<svg xmlns=\"http://www.w3.org/2000/svg\" height=\"24px\"viewBox=\"0 0 24 24\"\n",
              "     width=\"24px\">\n",
              "    <g>\n",
              "        <path d=\"M19 3H5c-1.1 0-2 .9-2 2v14c0 1.1.9 2 2 2h14c1.1 0 2-.9 2-2V5c0-1.1-.9-2-2-2zM9 17H7v-7h2v7zm4 0h-2V7h2v10zm4 0h-2v-4h2v4z\"/>\n",
              "    </g>\n",
              "</svg>\n",
              "  </button>\n",
              "\n",
              "<style>\n",
              "  .colab-df-quickchart {\n",
              "      --bg-color: #E8F0FE;\n",
              "      --fill-color: #1967D2;\n",
              "      --hover-bg-color: #E2EBFA;\n",
              "      --hover-fill-color: #174EA6;\n",
              "      --disabled-fill-color: #AAA;\n",
              "      --disabled-bg-color: #DDD;\n",
              "  }\n",
              "\n",
              "  [theme=dark] .colab-df-quickchart {\n",
              "      --bg-color: #3B4455;\n",
              "      --fill-color: #D2E3FC;\n",
              "      --hover-bg-color: #434B5C;\n",
              "      --hover-fill-color: #FFFFFF;\n",
              "      --disabled-bg-color: #3B4455;\n",
              "      --disabled-fill-color: #666;\n",
              "  }\n",
              "\n",
              "  .colab-df-quickchart {\n",
              "    background-color: var(--bg-color);\n",
              "    border: none;\n",
              "    border-radius: 50%;\n",
              "    cursor: pointer;\n",
              "    display: none;\n",
              "    fill: var(--fill-color);\n",
              "    height: 32px;\n",
              "    padding: 0;\n",
              "    width: 32px;\n",
              "  }\n",
              "\n",
              "  .colab-df-quickchart:hover {\n",
              "    background-color: var(--hover-bg-color);\n",
              "    box-shadow: 0 1px 2px rgba(60, 64, 67, 0.3), 0 1px 3px 1px rgba(60, 64, 67, 0.15);\n",
              "    fill: var(--button-hover-fill-color);\n",
              "  }\n",
              "\n",
              "  .colab-df-quickchart-complete:disabled,\n",
              "  .colab-df-quickchart-complete:disabled:hover {\n",
              "    background-color: var(--disabled-bg-color);\n",
              "    fill: var(--disabled-fill-color);\n",
              "    box-shadow: none;\n",
              "  }\n",
              "\n",
              "  .colab-df-spinner {\n",
              "    border: 2px solid var(--fill-color);\n",
              "    border-color: transparent;\n",
              "    border-bottom-color: var(--fill-color);\n",
              "    animation:\n",
              "      spin 1s steps(1) infinite;\n",
              "  }\n",
              "\n",
              "  @keyframes spin {\n",
              "    0% {\n",
              "      border-color: transparent;\n",
              "      border-bottom-color: var(--fill-color);\n",
              "      border-left-color: var(--fill-color);\n",
              "    }\n",
              "    20% {\n",
              "      border-color: transparent;\n",
              "      border-left-color: var(--fill-color);\n",
              "      border-top-color: var(--fill-color);\n",
              "    }\n",
              "    30% {\n",
              "      border-color: transparent;\n",
              "      border-left-color: var(--fill-color);\n",
              "      border-top-color: var(--fill-color);\n",
              "      border-right-color: var(--fill-color);\n",
              "    }\n",
              "    40% {\n",
              "      border-color: transparent;\n",
              "      border-right-color: var(--fill-color);\n",
              "      border-top-color: var(--fill-color);\n",
              "    }\n",
              "    60% {\n",
              "      border-color: transparent;\n",
              "      border-right-color: var(--fill-color);\n",
              "    }\n",
              "    80% {\n",
              "      border-color: transparent;\n",
              "      border-right-color: var(--fill-color);\n",
              "      border-bottom-color: var(--fill-color);\n",
              "    }\n",
              "    90% {\n",
              "      border-color: transparent;\n",
              "      border-bottom-color: var(--fill-color);\n",
              "    }\n",
              "  }\n",
              "</style>\n",
              "\n",
              "  <script>\n",
              "    async function quickchart(key) {\n",
              "      const quickchartButtonEl =\n",
              "        document.querySelector('#' + key + ' button');\n",
              "      quickchartButtonEl.disabled = true;  // To prevent multiple clicks.\n",
              "      quickchartButtonEl.classList.add('colab-df-spinner');\n",
              "      try {\n",
              "        const charts = await google.colab.kernel.invokeFunction(\n",
              "            'suggestCharts', [key], {});\n",
              "      } catch (error) {\n",
              "        console.error('Error during call to suggestCharts:', error);\n",
              "      }\n",
              "      quickchartButtonEl.classList.remove('colab-df-spinner');\n",
              "      quickchartButtonEl.classList.add('colab-df-quickchart-complete');\n",
              "    }\n",
              "    (() => {\n",
              "      let quickchartButtonEl =\n",
              "        document.querySelector('#df-a739ce4a-0de3-4aa7-aeae-d81db05feb6a button');\n",
              "      quickchartButtonEl.style.display =\n",
              "        google.colab.kernel.accessAllowed ? 'block' : 'none';\n",
              "    })();\n",
              "  </script>\n",
              "</div>\n",
              "\n",
              "    </div>\n",
              "  </div>\n"
            ],
            "application/vnd.google.colaboratory.intrinsic+json": {
              "type": "dataframe",
              "variable_name": "df"
            }
          },
          "metadata": {},
          "execution_count": 37
        }
      ]
    },
    {
      "cell_type": "code",
      "source": [
        "from pyspark.sql.types import StructType, StructField, StringType, ArrayType, MapType, IntegerType, MapType, LongType, BooleanType, FloatType\n",
        "from pyspark.sql.functions import col, explode, expr, collect_list, when\n",
        "\n",
        "# Define the schema, specifying the type for the `images` field and other fields.\n",
        "schema_review = StructType([\n",
        "    StructField(\"rating\", FloatType(), True),\n",
        "    StructField(\"title\", StringType(), True),\n",
        "    StructField(\"text\", StringType(), True),\n",
        "    StructField(\"images\", ArrayType(MapType(StringType(), StringType())), True),  # Array of dictionaries\n",
        "    StructField(\"asin\", StringType(), True),\n",
        "    StructField(\"parent_asin\", StringType(), True),\n",
        "    StructField(\"user_id\", StringType(), True),\n",
        "    StructField(\"timestamp\", LongType(), True),\n",
        "    StructField(\"helpful_vote\", IntegerType(), True),\n",
        "    StructField(\"verified_purchase\", BooleanType(), True)\n",
        "])\n"
      ],
      "metadata": {
        "id": "fP06CMJTz7Dk"
      },
      "execution_count": 38,
      "outputs": []
    },
    {
      "cell_type": "code",
      "source": [
        "# Convert Pandas DataFrames to PySpark DataFrames\n",
        "pyspark_df_reviews = spark.createDataFrame(df, schema = schema_review)"
      ],
      "metadata": {
        "id": "hRJdVYxQz_Hj"
      },
      "execution_count": 39,
      "outputs": []
    },
    {
      "cell_type": "code",
      "source": [
        "# Filter reviews that had no images\n",
        "pyspark_df_reviews = pyspark_df_reviews.withColumn('number_images', f.size('images')).withColumn(\"id\", f.monotonically_increasing_id())\n",
        "\n",
        "# Count how mnay images reviews had\n",
        "pyspark_df_reviews = pyspark_df_reviews.filter(\"number_images != 0\").filter(\"rating > 0 and rating is not null\")\n",
        "\n",
        "# Extract the 'large_image_url' from the 'images' column\n",
        "pyspark_df_reviews = pyspark_df_reviews.withColumn('large_image_url', expr(\"images[0]['large_image_url']\"))\n",
        "\n",
        "# Explode the 'images' array to get each dictionary as a separate row\n",
        "exploded_df = pyspark_df_reviews.select(explode(col(\"images\")).alias(\"image\"))\n",
        "\n",
        "# Extract 'large_image_url' from each exploded dictionary\n",
        "extracted_df = exploded_df.select(col(\"image\")[\"large_image_url\"].alias(\"large_image_url\"))\n",
        "\n",
        "# Collect all 'large_image_url' values back into a list per original row\n",
        "pyspark_df_reviews = pyspark_df_reviews.withColumn(\"all_large_image_urls\", expr(\"transform(images, x -> x['large_image_url'])\"))\n",
        "\n",
        "# Convert 'timestamp' to correct formatting\n",
        "pyspark_df_reviews.withColumn(\"timestamp\", f.date_format(f.from_unixtime(col(\"timestamp\") / 1000), \"yyyy-MM-dd\")).show()"
      ],
      "metadata": {
        "colab": {
          "base_uri": "https://localhost:8080/"
        },
        "id": "8bSU7A5w0BlZ",
        "outputId": "2b908edb-4a09-4001-8ed8-e797fa346884"
      },
      "execution_count": 40,
      "outputs": [
        {
          "output_type": "stream",
          "name": "stdout",
          "text": [
            "+------+--------------------+--------------------+--------------------+----------+-----------+--------------------+----------+------------+-----------------+-------------+---+--------------------+--------------------+\n",
            "|rating|               title|                text|              images|      asin|parent_asin|             user_id| timestamp|helpful_vote|verified_purchase|number_images| id|     large_image_url|all_large_image_urls|\n",
            "+------+--------------------+--------------------+--------------------+----------+-----------+--------------------+----------+------------+-----------------+-------------+---+--------------------+--------------------+\n",
            "|   4.0|        Pretty Color|The polish was qu...|[{large_image_url...|B00R8DXL44| B00R8DXL44|AGMJ3EMDVL6OWBJF7...|2020-08-27|           0|             true|            1|  5|https://images-na...|[https://images-n...|\n",
            "|   3.0|                 Meh|These were lightw...|[{large_image_url...|B088SZDGXG| B08BBQ29N5|AEYORY2AVPMCPDV57...|2021-10-15|           0|             true|            1|  7|https://m.media-a...|[https://m.media-...|\n",
            "|   5.0|Nice colors and d...|Haven’t worn it v...|[{large_image_url...|B07H281V4V| B07H281V4V|AHW7W34BLHHC4AYM4...|2020-12-31|           0|             true|            1| 45|https://images-na...|[https://images-n...|\n",
            "|   5.0|Absolutely beautiful|These diamond are...|[{large_image_url...|B095SC4J8T| B095SC4J8T|AH4CGRSYSW5CWLRGQ...|2021-08-17|           0|             true|            1| 56|https://m.media-a...|[https://m.media-...|\n",
            "|   5.0|Doesn't Sting or ...|I am in my late 4...|[{large_image_url...|B01CO73OIQ| B01CO73OIQ|AHV6QCNBJNSGLATP5...|2016-06-28|           8|             true|            2|106|https://images-na...|[https://images-n...|\n",
            "|   4.0|Best Peeling Kit ...|This is the 3rd p...|[{large_image_url...|B00KR4AFJU| B00KR4AFJU|AHV6QCNBJNSGLATP5...|2016-04-11|           0|            false|            2|107|https://images-na...|[https://images-n...|\n",
            "|   4.0|         Fun to Use!|My daughter and I...|[{large_image_url...|B015ZXMSFQ| B015ZXMSFQ|AHV6QCNBJNSGLATP5...|2016-02-14|           3|            false|            3|108|https://images-na...|[https://images-n...|\n",
            "|   4.0|Slight Fading of ...|I burned my back ...|[{large_image_url...|B00KXFD75M| B00KXFD75M|AHV6QCNBJNSGLATP5...|2016-02-04|           0|            false|            3|109|https://images-na...|[https://images-n...|\n",
            "|   5.0|        Looks Great!|I am very happy w...|[{large_image_url...|B010B0S67C| B010B0S67C|AHV6QCNBJNSGLATP5...|2015-09-12|           1|            false|            1|110|https://images-na...|[https://images-n...|\n",
            "|   1.0|Got Halloween mak...|I read the descri...|[{large_image_url...|B0B7RBK4NJ| B0B7RBK4NJ|AEZ26WGWJ3EOQ4KWS...|2022-09-10|           0|            false|            1|130|https://m.media-a...|[https://m.media-...|\n",
            "|   5.0|Small but Works g...|Tiny waver that w...|[{large_image_url...|B08NPBQR9L| B08NPBQR9L|AFJBKPK5W56XWSNPQ...|2020-12-28|           0|            false|            2|140|https://images-na...|[https://images-n...|\n",
            "|   5.0|Worth buying! Lov...|Easy to use, long...|[{large_image_url...|B07V6F1TK2| B07V6F1TK2|AHH4EDVBK4H6ZWPSC...|2020-05-12|           0|             true|            2|162|https://images-na...|[https://images-n...|\n",
            "|   5.0|Big Bottle of Ace...|Like other nail p...|[{large_image_url...|B07S8F3LRC| B07S8F3LRC|AEYGPUCRKH7G4VM22...|2019-12-25|           1|            false|            1|181|https://images-na...|[https://images-n...|\n",
            "|   3.0|This fragrance is...|I wish I loved th...|[{large_image_url...|B0B8F6MWFJ| B0B8F6MWFJ|AFXF3EGQTQDXMRLDW...|2022-10-20|           1|            false|            1|192|https://m.media-a...|[https://m.media-...|\n",
            "|   4.0|Typical thin and ...|There are six sil...|[{large_image_url...|B09ZKWV5MK| B09ZKWV5MK|AFXF3EGQTQDXMRLDW...|2022-06-04|           1|            false|            2|193|https://m.media-a...|[https://m.media-...|\n",
            "|   3.0|The cream is blue...|The photo on Amaz...|[{large_image_url...|B08HVRP54L| B08HVRP54L|AFXF3EGQTQDXMRLDW...|2022-05-26|           1|            false|            1|194|https://m.media-a...|[https://m.media-...|\n",
            "|   3.0|Good detangling c...|I love the tines ...|[{large_image_url...|B09QHM6FKK| B0B5X48DZR|AFXF3EGQTQDXMRLDW...|2022-04-25|           1|            false|            2|196|https://m.media-a...|[https://m.media-...|\n",
            "|   3.0|Light-weight crea...|This comes in a o...|[{large_image_url...|B08N5NDVGH| B08N5NDVGH|AFXF3EGQTQDXMRLDW...|2022-03-15|           1|            false|            2|197|https://m.media-a...|[https://m.media-...|\n",
            "|   2.0|Not totally easy ...|I used this on my...|[{large_image_url...|B09P144WHW| B09P144WHW|AFXF3EGQTQDXMRLDW...|2022-03-14|           1|            false|            6|198|https://m.media-a...|[https://m.media-...|\n",
            "|   3.0|Great medium-dens...|This is a nice se...|[{large_image_url...|B09QT8SLJB| B09QT8SLJB|AFXF3EGQTQDXMRLDW...|2022-03-12|           2|            false|            2|199|https://m.media-a...|[https://m.media-...|\n",
            "+------+--------------------+--------------------+--------------------+----------+-----------+--------------------+----------+------------+-----------------+-------------+---+--------------------+--------------------+\n",
            "only showing top 20 rows\n",
            "\n"
          ]
        }
      ]
    },
    {
      "cell_type": "code",
      "source": [
        "# Show the final DataFrame\n",
        "pyspark_df_reviews.show()"
      ],
      "metadata": {
        "colab": {
          "base_uri": "https://localhost:8080/"
        },
        "id": "g_fma5x40IGx",
        "outputId": "4ba01e3f-0276-4c96-cae2-a041b66b7b02"
      },
      "execution_count": 41,
      "outputs": [
        {
          "output_type": "stream",
          "name": "stdout",
          "text": [
            "+------+--------------------+--------------------+--------------------+----------+-----------+--------------------+-------------+------------+-----------------+-------------+---+--------------------+--------------------+\n",
            "|rating|               title|                text|              images|      asin|parent_asin|             user_id|    timestamp|helpful_vote|verified_purchase|number_images| id|     large_image_url|all_large_image_urls|\n",
            "+------+--------------------+--------------------+--------------------+----------+-----------+--------------------+-------------+------------+-----------------+-------------+---+--------------------+--------------------+\n",
            "|   4.0|        Pretty Color|The polish was qu...|[{large_image_url...|B00R8DXL44| B00R8DXL44|AGMJ3EMDVL6OWBJF7...|1598567408138|           0|             true|            1|  5|https://images-na...|[https://images-n...|\n",
            "|   3.0|                 Meh|These were lightw...|[{large_image_url...|B088SZDGXG| B08BBQ29N5|AEYORY2AVPMCPDV57...|1634275259292|           0|             true|            1|  7|https://m.media-a...|[https://m.media-...|\n",
            "|   5.0|Nice colors and d...|Haven’t worn it v...|[{large_image_url...|B07H281V4V| B07H281V4V|AHW7W34BLHHC4AYM4...|1609434807770|           0|             true|            1| 45|https://images-na...|[https://images-n...|\n",
            "|   5.0|Absolutely beautiful|These diamond are...|[{large_image_url...|B095SC4J8T| B095SC4J8T|AH4CGRSYSW5CWLRGQ...|1629166303947|           0|             true|            1| 56|https://m.media-a...|[https://m.media-...|\n",
            "|   5.0|Doesn't Sting or ...|I am in my late 4...|[{large_image_url...|B01CO73OIQ| B01CO73OIQ|AHV6QCNBJNSGLATP5...|1467123218000|           8|             true|            2|106|https://images-na...|[https://images-n...|\n",
            "|   4.0|Best Peeling Kit ...|This is the 3rd p...|[{large_image_url...|B00KR4AFJU| B00KR4AFJU|AHV6QCNBJNSGLATP5...|1460413688000|           0|            false|            2|107|https://images-na...|[https://images-n...|\n",
            "|   4.0|         Fun to Use!|My daughter and I...|[{large_image_url...|B015ZXMSFQ| B015ZXMSFQ|AHV6QCNBJNSGLATP5...|1455464933000|           3|            false|            3|108|https://images-na...|[https://images-n...|\n",
            "|   4.0|Slight Fading of ...|I burned my back ...|[{large_image_url...|B00KXFD75M| B00KXFD75M|AHV6QCNBJNSGLATP5...|1454626110000|           0|            false|            3|109|https://images-na...|[https://images-n...|\n",
            "|   5.0|        Looks Great!|I am very happy w...|[{large_image_url...|B010B0S67C| B010B0S67C|AHV6QCNBJNSGLATP5...|1442016268000|           1|            false|            1|110|https://images-na...|[https://images-n...|\n",
            "|   1.0|Got Halloween mak...|I read the descri...|[{large_image_url...|B0B7RBK4NJ| B0B7RBK4NJ|AEZ26WGWJ3EOQ4KWS...|1662827578220|           0|            false|            1|130|https://m.media-a...|[https://m.media-...|\n",
            "|   5.0|Small but Works g...|Tiny waver that w...|[{large_image_url...|B08NPBQR9L| B08NPBQR9L|AFJBKPK5W56XWSNPQ...|1609182507469|           0|            false|            2|140|https://images-na...|[https://images-n...|\n",
            "|   5.0|Worth buying! Lov...|Easy to use, long...|[{large_image_url...|B07V6F1TK2| B07V6F1TK2|AHH4EDVBK4H6ZWPSC...|1589245725737|           0|             true|            2|162|https://images-na...|[https://images-n...|\n",
            "|   5.0|Big Bottle of Ace...|Like other nail p...|[{large_image_url...|B07S8F3LRC| B07S8F3LRC|AEYGPUCRKH7G4VM22...|1577295338919|           1|            false|            1|181|https://images-na...|[https://images-n...|\n",
            "|   3.0|This fragrance is...|I wish I loved th...|[{large_image_url...|B0B8F6MWFJ| B0B8F6MWFJ|AFXF3EGQTQDXMRLDW...|1666268588427|           1|            false|            1|192|https://m.media-a...|[https://m.media-...|\n",
            "|   4.0|Typical thin and ...|There are six sil...|[{large_image_url...|B09ZKWV5MK| B09ZKWV5MK|AFXF3EGQTQDXMRLDW...|1654314287951|           1|            false|            2|193|https://m.media-a...|[https://m.media-...|\n",
            "|   3.0|The cream is blue...|The photo on Amaz...|[{large_image_url...|B08HVRP54L| B08HVRP54L|AFXF3EGQTQDXMRLDW...|1653607216628|           1|            false|            1|194|https://m.media-a...|[https://m.media-...|\n",
            "|   3.0|Good detangling c...|I love the tines ...|[{large_image_url...|B09QHM6FKK| B0B5X48DZR|AFXF3EGQTQDXMRLDW...|1650921998863|           1|            false|            2|196|https://m.media-a...|[https://m.media-...|\n",
            "|   3.0|Light-weight crea...|This comes in a o...|[{large_image_url...|B08N5NDVGH| B08N5NDVGH|AFXF3EGQTQDXMRLDW...|1647381362768|           1|            false|            2|197|https://m.media-a...|[https://m.media-...|\n",
            "|   2.0|Not totally easy ...|I used this on my...|[{large_image_url...|B09P144WHW| B09P144WHW|AFXF3EGQTQDXMRLDW...|1647216897957|           1|            false|            6|198|https://m.media-a...|[https://m.media-...|\n",
            "|   3.0|Great medium-dens...|This is a nice se...|[{large_image_url...|B09QT8SLJB| B09QT8SLJB|AFXF3EGQTQDXMRLDW...|1647121848816|           2|            false|            2|199|https://m.media-a...|[https://m.media-...|\n",
            "+------+--------------------+--------------------+--------------------+----------+-----------+--------------------+-------------+------------+-----------------+-------------+---+--------------------+--------------------+\n",
            "only showing top 20 rows\n",
            "\n"
          ]
        }
      ]
    },
    {
      "cell_type": "code",
      "source": [
        "from pyspark.sql.functions import pandas_udf, PandasUDFType, col\n",
        "import requests\n",
        "from PIL import Image\n",
        "import numpy as np\n",
        "import cv2\n",
        "from io import BytesIO\n",
        "import json\n",
        "\n",
        "# Define schema for the result columns\n",
        "schema = StructType([\n",
        "    StructField(\"resolution\", FloatType(), True),\n",
        "    StructField(\"sharpness\", FloatType(), True),\n",
        "    StructField(\"brightness\", FloatType(), True),\n",
        "    StructField(\"contrast\", FloatType(), True)\n",
        "])\n",
        "\n",
        "# Define UDF to process each row of the DataFrame\n",
        "@pandas_udf(schema, PandasUDFType.SCALAR)\n",
        "def analyze_images(images_col):\n",
        "    resolutions = []\n",
        "    sharpness_values = []\n",
        "    brightness_values = []\n",
        "    contrast_values = []\n",
        "\n",
        "    for images in images_col:\n",
        "        try:\n",
        "            # Load images from URLs\n",
        "            img_url = images[0]  # First image URL\n",
        "\n",
        "            # Download the image\n",
        "            response = requests.get(img_url)\n",
        "            img = Image.open(BytesIO(response.content))\n",
        "\n",
        "            # Compute resolution\n",
        "            width, height = img.size\n",
        "            resolution = width * height\n",
        "\n",
        "            # Convert to grayscale for analysis\n",
        "            image_cv = np.array(img.convert('L'))\n",
        "\n",
        "            # Sharpness (Laplacian Variance)\n",
        "            sharpness = cv2.Laplacian(image_cv, cv2.CV_64F).var()\n",
        "\n",
        "            # Brightness (mean pixel value)\n",
        "            brightness = np.mean(image_cv)\n",
        "\n",
        "            # Contrast (max - min pixel value)\n",
        "            contrast = image_cv.max() - image_cv.min()\n",
        "\n",
        "            # Append results to lists\n",
        "            resolutions.append(resolution)\n",
        "            sharpness_values.append(sharpness)\n",
        "            brightness_values.append(brightness)\n",
        "            contrast_values.append(contrast)\n",
        "\n",
        "        except:\n",
        "            # Handle errors\n",
        "            resolution = None\n",
        "            sharpness = None\n",
        "            brightness = None\n",
        "            contrast = None\n",
        "\n",
        "    # Return as pandas Series\n",
        "    return pd.DataFrame({\n",
        "        \"resolution\": resolutions,\n",
        "        \"sharpness\": sharpness_values,\n",
        "        \"brightness\": brightness_values,\n",
        "        \"contrast\": contrast_values\n",
        "    })\n",
        "\n",
        "# Apply the UDF on the Spark DataFrame\n",
        "pyspark_df_reviews = pyspark_df_reviews.withColumn(\"analysis\", analyze_images(col(\"all_large_image_urls\")))\n",
        "\n",
        "# Replace None values with 0 (or a default value) in relevant columns\n",
        "pyspark_df_reviews = pyspark_df_reviews.withColumn(\"analysis.resolution\", when(col(\"analysis.resolution\").isNull(), 0).otherwise(col(\"analysis.resolution\")))\\\n",
        "                                        .withColumn(\"analysis.sharpness\", when(col(\"analysis.sharpness\").isNull(), 0).otherwise(col(\"analysis.sharpness\")))\\\n",
        "                                        .withColumn(\"analysis.brightness\", when(col(\"analysis.brightness\").isNull(), 0).otherwise(col(\"analysis.brightness\")))\\\n",
        "                                        .withColumn(\"analysis.contrast\", when(col(\"analysis.contrast\").isNull(), 0).otherwise(col(\"analysis.contrast\")))"
      ],
      "metadata": {
        "colab": {
          "base_uri": "https://localhost:8080/"
        },
        "id": "8_gg8lXO1ElD",
        "outputId": "6ecc06f5-168d-4880-a59d-2c5dfed86e4d"
      },
      "execution_count": 42,
      "outputs": [
        {
          "output_type": "stream",
          "name": "stderr",
          "text": [
            "/usr/local/lib/python3.10/dist-packages/pyspark/sql/pandas/functions.py:407: UserWarning: In Python 3.6+ and Spark 3.0+, it is preferred to specify type hints for pandas UDF instead of specifying pandas UDF type which will be deprecated in the future releases. See SPARK-28264 for more details.\n",
            "  warnings.warn(\n"
          ]
        }
      ]
    },
    {
      "cell_type": "code",
      "source": [
        "from pyspark.sql.functions import col, udf, when\n",
        "from pyspark.sql.types import FloatType, IntegerType, StringType\n",
        "\n",
        "# Define weights for each metric\n",
        "WEIGHTS = {\n",
        "    'resolution': 0.4,  # 40% weight\n",
        "    'sharpness': 0.3,   # 30% weight\n",
        "    'brightness': 0.2, # 15% weight\n",
        "    'contrast': 0.1    # 15% weight\n",
        "}\n",
        "\n",
        "# Granular classification functions for resolution, sharpness, brightness, and contrast\n",
        "def classify_by_resolution(resolution):\n",
        "      if resolution < 1_000_000:\n",
        "          return 2\n",
        "      elif 1_000_000 <= resolution <= 2_000_000:\n",
        "          return 6\n",
        "      else:\n",
        "          return 10\n",
        "\n",
        "def classify_by_sharpness(sharpness):\n",
        "    if sharpness is None:\n",
        "        return 0\n",
        "    if sharpness < 500:\n",
        "        return 2\n",
        "    elif 500 <= sharpness <= 1000:\n",
        "        return 6\n",
        "    else:\n",
        "        return 10\n",
        "\n",
        "def classify_by_brightness(brightness):\n",
        "    if brightness is None:\n",
        "        return 0\n",
        "    if brightness < 50 or brightness > 200:\n",
        "        return 2\n",
        "    elif 50 <= brightness <= 100 or 150 <= brightness <= 200:\n",
        "        return 6\n",
        "    else:\n",
        "        return 10\n",
        "\n",
        "def classify_by_contrast(contrast):\n",
        "    if contrast is None:\n",
        "        return 0\n",
        "    if contrast < 50:\n",
        "        return 2\n",
        "    elif 50 <= contrast <= 150:\n",
        "        return 6\n",
        "    else:\n",
        "        return 10\n",
        "\n",
        "# Register the classification functions as UDFs\n",
        "classify_resolution_udf = udf(classify_by_resolution, IntegerType())\n",
        "classify_sharpness_udf = udf(classify_by_sharpness, IntegerType())\n",
        "classify_brightness_udf = udf(classify_by_brightness, IntegerType())\n",
        "classify_contrast_udf = udf(classify_by_contrast, IntegerType())\n",
        "\n",
        "# Add classification columns to the DataFrame\n",
        "df_with_classification = pyspark_df_reviews \\\n",
        "    .withColumn(\"resolution_score\", classify_resolution_udf(col(\"analysis.resolution\")) * WEIGHTS['resolution']) \\\n",
        "    .withColumn(\"sharpness_score\", classify_sharpness_udf(col(\"analysis.sharpness\")) * WEIGHTS['sharpness']) \\\n",
        "    .withColumn(\"brightness_score\", classify_brightness_udf(col(\"analysis.brightness\")) * WEIGHTS['brightness']) \\\n",
        "    .withColumn(\"contrast_score\", classify_contrast_udf(col(\"analysis.contrast\")) * WEIGHTS['contrast'])\n",
        "\n",
        "# Calculate the total weighted score for each row\n",
        "df_with_scores = df_with_classification.withColumn(\n",
        "    \"image_quality\",\n",
        "    f.round((col(\"resolution_score\") + col(\"sharpness_score\") + col(\"brightness_score\") + col(\"contrast_score\")) / (sum(WEIGHTS.values()) * 10), 2)\n",
        ")\n",
        "\n",
        "# Select the relevant columns and show the result\n",
        "df_with_scores.select(\n",
        "    \"title\", \"rating\", \"helpful_vote\", \"analysis.resolution\", \"analysis.sharpness\",\n",
        "    \"analysis.brightness\", \"analysis.contrast\", \"image_quality\"\n",
        ").show(10, truncate=False)\n"
      ],
      "metadata": {
        "colab": {
          "base_uri": "https://localhost:8080/"
        },
        "id": "3P8fs1NLDGHs",
        "outputId": "b6e3d790-f270-4d2a-dcbb-5d00ef24a6df"
      },
      "execution_count": 43,
      "outputs": [
        {
          "output_type": "stream",
          "name": "stdout",
          "text": [
            "+-----------------------------------+------+------------+----------+---------+----------+--------+-------------+\n",
            "|title                              |rating|helpful_vote|resolution|sharpness|brightness|contrast|image_quality|\n",
            "+-----------------------------------+------+------------+----------+---------+----------+--------+-------------+\n",
            "|Pretty Color                       |4.0   |0           |1920000.0 |22.521935|102.756836|250.0   |0.6          |\n",
            "|Meh                                |3.0   |0           |1218816.0 |130.40286|115.54641 |254.0   |0.6          |\n",
            "|Nice colors and dries fast         |5.0   |0           |1371200.0 |49.51126 |107.86398 |255.0   |0.6          |\n",
            "|Absolutely beautiful               |5.0   |0           |1892800.0 |787.8953 |182.21758 |255.0   |0.64         |\n",
            "|Doesn't Sting or Burn My Eyes!     |5.0   |8           |512740.0  |55.262444|140.95502 |226.0   |0.44         |\n",
            "|Best Peeling Kit I've Tried So Far |4.0   |0           |512120.0  |72.537834|72.96845  |190.0   |0.36         |\n",
            "|Fun to Use!                        |4.0   |3           |598980.0  |148.74817|120.06687 |247.0   |0.44         |\n",
            "|Slight Fading of Burns So Far      |4.0   |0           |512120.0  |198.0316 |102.49052 |254.0   |0.44         |\n",
            "|Looks Great!                       |5.0   |1           |1997568.0 |197.14984|108.30528 |255.0   |0.6          |\n",
            "|Got Halloween makeup kit damaged \\]|1.0   |0           |1920000.0 |430.25677|115.9174  |255.0   |0.6          |\n",
            "+-----------------------------------+------+------------+----------+---------+----------+--------+-------------+\n",
            "only showing top 10 rows\n",
            "\n"
          ]
        }
      ]
    },
    {
      "cell_type": "code",
      "source": [
        "# df_with_scores.select(f.corr('rating', 'image_quality')).show()"
      ],
      "metadata": {
        "id": "JaMfewNVI_xM"
      },
      "execution_count": 44,
      "outputs": []
    },
    {
      "cell_type": "code",
      "source": [
        "df_final = df_with_scores.select(\n",
        "    \"title\", \"rating\", \"helpful_vote\", 'asin', 'parent_asin', 'timestamp', 'helpful_vote', 'verified_purchase', 'number_images', \"analysis.resolution\", \"analysis.sharpness\",\n",
        "    \"analysis.brightness\", \"analysis.contrast\", \"image_quality\"\n",
        ")"
      ],
      "metadata": {
        "id": "fNfrAQ8v-aV4"
      },
      "execution_count": 45,
      "outputs": []
    },
    {
      "cell_type": "code",
      "source": [
        "# import pyodbc\n",
        "# conn = pyodbc.connect('Driver={ODBC Driver 18 for SQL Server};Server=mit805assignment.database.windows.net;Database=dbo;UID=reogovender@deloitte.co.za;PWD=ChemEng20@23!7;Authentication=ActiveDirectoryPassword')\n",
        "# cursor = conn.cursor()"
      ],
      "metadata": {
        "id": "xktplwD1YK-u"
      },
      "execution_count": 46,
      "outputs": []
    },
    {
      "cell_type": "code",
      "source": [
        "# def generate_create_table_query(df, table_name):\n",
        "#     schema = df.schema\n",
        "#     column_definitions = []\n",
        "\n",
        "#     for field in schema.fields:\n",
        "#         # Map PySpark types to SQL types\n",
        "#         if isinstance(field.dataType, IntegerType):\n",
        "#             sql_type = \"INT\"\n",
        "#         elif isinstance(field.dataType, StringType):\n",
        "#             sql_type = \"VARCHAR(255)\"\n",
        "#         else:\n",
        "#             sql_type = \"VARCHAR(255)\"  # Default type\n",
        "\n",
        "#         column_definitions.append(f\"{field.name} {sql_type}\")\n",
        "\n",
        "#     columns_sql = \", \".join(column_definitions)\n",
        "#     create_table_query = f\"CREATE TABLE {table_name} ({columns_sql});\"\n",
        "#     return create_table_query\n",
        "\n",
        "# # Generate the CREATE TABLE SQL query\n",
        "# table_name = \"new_table_1\"\n",
        "# create_query = generate_create_table_query(x, table_name)\n",
        "# print(create_query)\n",
        "\n",
        "\n",
        "# cursor.execute(create_query)\n",
        "# conn.commit()"
      ],
      "metadata": {
        "id": "fEgRfmZ18eM7"
      },
      "execution_count": 47,
      "outputs": []
    },
    {
      "cell_type": "code",
      "source": [
        "# def insert_data_from_df(df, table_name):\n",
        "#     \"\"\"Insert data into SQL Server using itertuples().\"\"\"\n",
        "#     pdf = df.limit(10).toPandas()  # Convert to Pandas DataFrame (ensure memory fits)\n",
        "\n",
        "#     # Build the INSERT query dynamically\n",
        "#     columns = \", \".join(pdf.columns)\n",
        "#     placeholders = \", \".join([\"?\"] * len(pdf.columns))\n",
        "#     insert_query = f\"INSERT INTO {table_name} ({columns}) VALUES ({placeholders})\"\n",
        "\n",
        "#     # Insert data row by row using itertuples() for efficiency\n",
        "#     for row in pdf.itertuples(index=False):\n",
        "#         cursor.execute(insert_query, *row)\n",
        "\n",
        "#     conn.commit()\n",
        "#     print(f\"Data inserted into {table_name} successfully.\")\n",
        "\n",
        "# insert_data_from_df(x, table_name)"
      ],
      "metadata": {
        "id": "kvFqi_Ea_qO1"
      },
      "execution_count": 48,
      "outputs": []
    },
    {
      "cell_type": "code",
      "source": [
        "from google.colab import drive\n",
        "drive.mount('/content/drive')"
      ],
      "metadata": {
        "colab": {
          "base_uri": "https://localhost:8080/"
        },
        "id": "wjSqo-RUTItd",
        "outputId": "ad221ffa-5c15-4945-d17e-98a07c90d02b"
      },
      "execution_count": 49,
      "outputs": [
        {
          "output_type": "stream",
          "name": "stdout",
          "text": [
            "Drive already mounted at /content/drive; to attempt to forcibly remount, call drive.mount(\"/content/drive\", force_remount=True).\n"
          ]
        }
      ]
    },
    {
      "cell_type": "code",
      "source": [
        "df_final.count().cache()"
      ],
      "metadata": {
        "id": "bI7UTr1xY_qu",
        "outputId": "829066d1-6bde-4dfa-eb60-897990ec976a",
        "colab": {
          "base_uri": "https://localhost:8080/",
          "height": 1000
        }
      },
      "execution_count": 50,
      "outputs": [
        {
          "output_type": "stream",
          "name": "stderr",
          "text": [
            "----------------------------------------\n",
            "Exception occurred during processing of request from ('127.0.0.1', 56368)\n",
            "ERROR:root:Exception while sending command.\n",
            "Traceback (most recent call last):\n",
            "  File \"/usr/local/lib/python3.10/dist-packages/IPython/core/interactiveshell.py\", line 3553, in run_code\n",
            "    exec(code_obj, self.user_global_ns, self.user_ns)\n",
            "  File \"<ipython-input-50-8ea44c46d933>\", line 1, in <cell line: 1>\n",
            "    df_final.count().cache()\n",
            "  File \"/usr/local/lib/python3.10/dist-packages/pyspark/sql/dataframe.py\", line 1240, in count\n",
            "    return int(self._jdf.count())\n",
            "  File \"/usr/local/lib/python3.10/dist-packages/py4j/java_gateway.py\", line 1322, in __call__\n",
            "    return_value = get_return_value(\n",
            "  File \"/usr/local/lib/python3.10/dist-packages/pyspark/errors/exceptions/captured.py\", line 179, in deco\n",
            "    return f(*a, **kw)\n",
            "  File \"/usr/local/lib/python3.10/dist-packages/py4j/protocol.py\", line 326, in get_return_value\n",
            "    raise Py4JJavaError(\n",
            "py4j.protocol.Py4JJavaError: <unprintable Py4JJavaError object>\n",
            "\n",
            "During handling of the above exception, another exception occurred:\n",
            "\n",
            "Traceback (most recent call last):\n",
            "  File \"/usr/local/lib/python3.10/dist-packages/IPython/core/interactiveshell.py\", line 2099, in showtraceback\n",
            "    stb = value._render_traceback_()\n",
            "AttributeError: 'Py4JJavaError' object has no attribute '_render_traceback_'\n",
            "\n",
            "During handling of the above exception, another exception occurred:\n",
            "\n",
            "Traceback (most recent call last):\n",
            "  File \"/usr/local/lib/python3.10/dist-packages/py4j/clientserver.py\", line 516, in send_command\n",
            "    raise Py4JNetworkError(\"Answer from Java side is empty\")\n",
            "py4j.protocol.Py4JNetworkError: Answer from Java side is empty\n",
            "\n",
            "During handling of the above exception, another exception occurred:\n",
            "\n",
            "Traceback (most recent call last):\n",
            "  File \"/usr/local/lib/python3.10/dist-packages/py4j/java_gateway.py\", line 1038, in send_command\n",
            "    response = connection.send_command(command)\n",
            "  File \"/usr/local/lib/python3.10/dist-packages/py4j/clientserver.py\", line 539, in send_command\n",
            "    raise Py4JNetworkError(\n",
            "py4j.protocol.Py4JNetworkError: Error while sending or receiving\n",
            "Traceback (most recent call last):\n",
            "  File \"/usr/lib/python3.10/socketserver.py\", line 316, in _handle_request_noblock\n",
            "    self.process_request(request, client_address)\n",
            "  File \"/usr/lib/python3.10/socketserver.py\", line 347, in process_request\n",
            "    self.finish_request(request, client_address)\n",
            "  File \"/usr/lib/python3.10/socketserver.py\", line 360, in finish_request\n",
            "    self.RequestHandlerClass(request, client_address, self)\n",
            "  File \"/usr/lib/python3.10/socketserver.py\", line 747, in __init__\n",
            "    self.handle()\n",
            "  File \"/usr/local/lib/python3.10/dist-packages/pyspark/accumulators.py\", line 295, in handle\n",
            "    poll(accum_updates)\n",
            "  File \"/usr/local/lib/python3.10/dist-packages/pyspark/accumulators.py\", line 267, in poll\n",
            "    if self.rfile in r and func():\n",
            "  File \"/usr/local/lib/python3.10/dist-packages/pyspark/accumulators.py\", line 271, in accum_updates\n",
            "    num_updates = read_int(self.rfile)\n",
            "  File \"/usr/local/lib/python3.10/dist-packages/pyspark/serializers.py\", line 596, in read_int\n",
            "    raise EOFError\n",
            "EOFError\n",
            "----------------------------------------\n"
          ]
        },
        {
          "output_type": "error",
          "ename": "ConnectionRefusedError",
          "evalue": "[Errno 111] Connection refused",
          "traceback": [
            "\u001b[0;31m---------------------------------------------------------------------------\u001b[0m",
            "\u001b[0;31mPy4JJavaError\u001b[0m                             Traceback (most recent call last)",
            "    \u001b[0;31m[... skipping hidden 1 frame]\u001b[0m\n",
            "\u001b[0;32m<ipython-input-50-8ea44c46d933>\u001b[0m in \u001b[0;36m<cell line: 1>\u001b[0;34m()\u001b[0m\n\u001b[0;32m----> 1\u001b[0;31m \u001b[0mdf_final\u001b[0m\u001b[0;34m.\u001b[0m\u001b[0mcount\u001b[0m\u001b[0;34m(\u001b[0m\u001b[0;34m)\u001b[0m\u001b[0;34m.\u001b[0m\u001b[0mcache\u001b[0m\u001b[0;34m(\u001b[0m\u001b[0;34m)\u001b[0m\u001b[0;34m\u001b[0m\u001b[0;34m\u001b[0m\u001b[0m\n\u001b[0m",
            "\u001b[0;32m/usr/local/lib/python3.10/dist-packages/pyspark/sql/dataframe.py\u001b[0m in \u001b[0;36mcount\u001b[0;34m(self)\u001b[0m\n\u001b[1;32m   1239\u001b[0m         \"\"\"\n\u001b[0;32m-> 1240\u001b[0;31m         \u001b[0;32mreturn\u001b[0m \u001b[0mint\u001b[0m\u001b[0;34m(\u001b[0m\u001b[0mself\u001b[0m\u001b[0;34m.\u001b[0m\u001b[0m_jdf\u001b[0m\u001b[0;34m.\u001b[0m\u001b[0mcount\u001b[0m\u001b[0;34m(\u001b[0m\u001b[0;34m)\u001b[0m\u001b[0;34m)\u001b[0m\u001b[0;34m\u001b[0m\u001b[0;34m\u001b[0m\u001b[0m\n\u001b[0m\u001b[1;32m   1241\u001b[0m \u001b[0;34m\u001b[0m\u001b[0m\n",
            "\u001b[0;32m/usr/local/lib/python3.10/dist-packages/py4j/java_gateway.py\u001b[0m in \u001b[0;36m__call__\u001b[0;34m(self, *args)\u001b[0m\n\u001b[1;32m   1321\u001b[0m         \u001b[0manswer\u001b[0m \u001b[0;34m=\u001b[0m \u001b[0mself\u001b[0m\u001b[0;34m.\u001b[0m\u001b[0mgateway_client\u001b[0m\u001b[0;34m.\u001b[0m\u001b[0msend_command\u001b[0m\u001b[0;34m(\u001b[0m\u001b[0mcommand\u001b[0m\u001b[0;34m)\u001b[0m\u001b[0;34m\u001b[0m\u001b[0;34m\u001b[0m\u001b[0m\n\u001b[0;32m-> 1322\u001b[0;31m         return_value = get_return_value(\n\u001b[0m\u001b[1;32m   1323\u001b[0m             answer, self.gateway_client, self.target_id, self.name)\n",
            "\u001b[0;32m/usr/local/lib/python3.10/dist-packages/pyspark/errors/exceptions/captured.py\u001b[0m in \u001b[0;36mdeco\u001b[0;34m(*a, **kw)\u001b[0m\n\u001b[1;32m    178\u001b[0m         \u001b[0;32mtry\u001b[0m\u001b[0;34m:\u001b[0m\u001b[0;34m\u001b[0m\u001b[0;34m\u001b[0m\u001b[0m\n\u001b[0;32m--> 179\u001b[0;31m             \u001b[0;32mreturn\u001b[0m \u001b[0mf\u001b[0m\u001b[0;34m(\u001b[0m\u001b[0;34m*\u001b[0m\u001b[0ma\u001b[0m\u001b[0;34m,\u001b[0m \u001b[0;34m**\u001b[0m\u001b[0mkw\u001b[0m\u001b[0;34m)\u001b[0m\u001b[0;34m\u001b[0m\u001b[0;34m\u001b[0m\u001b[0m\n\u001b[0m\u001b[1;32m    180\u001b[0m         \u001b[0;32mexcept\u001b[0m \u001b[0mPy4JJavaError\u001b[0m \u001b[0;32mas\u001b[0m \u001b[0me\u001b[0m\u001b[0;34m:\u001b[0m\u001b[0;34m\u001b[0m\u001b[0;34m\u001b[0m\u001b[0m\n",
            "\u001b[0;32m/usr/local/lib/python3.10/dist-packages/py4j/protocol.py\u001b[0m in \u001b[0;36mget_return_value\u001b[0;34m(answer, gateway_client, target_id, name)\u001b[0m\n\u001b[1;32m    325\u001b[0m             \u001b[0;32mif\u001b[0m \u001b[0manswer\u001b[0m\u001b[0;34m[\u001b[0m\u001b[0;36m1\u001b[0m\u001b[0;34m]\u001b[0m \u001b[0;34m==\u001b[0m \u001b[0mREFERENCE_TYPE\u001b[0m\u001b[0;34m:\u001b[0m\u001b[0;34m\u001b[0m\u001b[0;34m\u001b[0m\u001b[0m\n\u001b[0;32m--> 326\u001b[0;31m                 raise Py4JJavaError(\n\u001b[0m\u001b[1;32m    327\u001b[0m                     \u001b[0;34m\"An error occurred while calling {0}{1}{2}.\\n\"\u001b[0m\u001b[0;34m.\u001b[0m\u001b[0;34m\u001b[0m\u001b[0;34m\u001b[0m\u001b[0m\n",
            "\u001b[0;31m<class 'str'>\u001b[0m: (<class 'ConnectionRefusedError'>, ConnectionRefusedError(111, 'Connection refused'))",
            "\nDuring handling of the above exception, another exception occurred:\n",
            "\u001b[0;31mConnectionRefusedError\u001b[0m                    Traceback (most recent call last)",
            "    \u001b[0;31m[... skipping hidden 1 frame]\u001b[0m\n",
            "\u001b[0;32m/usr/local/lib/python3.10/dist-packages/IPython/core/interactiveshell.py\u001b[0m in \u001b[0;36mshowtraceback\u001b[0;34m(self, exc_tuple, filename, tb_offset, exception_only, running_compiled_code)\u001b[0m\n\u001b[1;32m   2102\u001b[0m                                             value, tb, tb_offset=tb_offset)\n\u001b[1;32m   2103\u001b[0m \u001b[0;34m\u001b[0m\u001b[0m\n\u001b[0;32m-> 2104\u001b[0;31m                     \u001b[0mself\u001b[0m\u001b[0;34m.\u001b[0m\u001b[0m_showtraceback\u001b[0m\u001b[0;34m(\u001b[0m\u001b[0metype\u001b[0m\u001b[0;34m,\u001b[0m \u001b[0mvalue\u001b[0m\u001b[0;34m,\u001b[0m \u001b[0mstb\u001b[0m\u001b[0;34m)\u001b[0m\u001b[0;34m\u001b[0m\u001b[0;34m\u001b[0m\u001b[0m\n\u001b[0m\u001b[1;32m   2105\u001b[0m                     \u001b[0;32mif\u001b[0m \u001b[0mself\u001b[0m\u001b[0;34m.\u001b[0m\u001b[0mcall_pdb\u001b[0m\u001b[0;34m:\u001b[0m\u001b[0;34m\u001b[0m\u001b[0;34m\u001b[0m\u001b[0m\n\u001b[1;32m   2106\u001b[0m                         \u001b[0;31m# drop into debugger\u001b[0m\u001b[0;34m\u001b[0m\u001b[0;34m\u001b[0m\u001b[0m\n",
            "\u001b[0;32m/usr/local/lib/python3.10/dist-packages/google/colab/_shell.py\u001b[0m in \u001b[0;36m_showtraceback\u001b[0;34m(self, etype, evalue, stb)\u001b[0m\n\u001b[1;32m    132\u001b[0m         \u001b[0;34m'traceback'\u001b[0m\u001b[0;34m:\u001b[0m \u001b[0mstb\u001b[0m\u001b[0;34m,\u001b[0m\u001b[0;34m\u001b[0m\u001b[0;34m\u001b[0m\u001b[0m\n\u001b[1;32m    133\u001b[0m         \u001b[0;34m'ename'\u001b[0m\u001b[0;34m:\u001b[0m \u001b[0mpy3compat\u001b[0m\u001b[0;34m.\u001b[0m\u001b[0municode_type\u001b[0m\u001b[0;34m(\u001b[0m\u001b[0metype\u001b[0m\u001b[0;34m.\u001b[0m\u001b[0m__name__\u001b[0m\u001b[0;34m)\u001b[0m\u001b[0;34m,\u001b[0m\u001b[0;34m\u001b[0m\u001b[0;34m\u001b[0m\u001b[0m\n\u001b[0;32m--> 134\u001b[0;31m         \u001b[0;34m'evalue'\u001b[0m\u001b[0;34m:\u001b[0m \u001b[0mpy3compat\u001b[0m\u001b[0;34m.\u001b[0m\u001b[0msafe_unicode\u001b[0m\u001b[0;34m(\u001b[0m\u001b[0mevalue\u001b[0m\u001b[0;34m)\u001b[0m\u001b[0;34m,\u001b[0m\u001b[0;34m\u001b[0m\u001b[0;34m\u001b[0m\u001b[0m\n\u001b[0m\u001b[1;32m    135\u001b[0m     }\n\u001b[1;32m    136\u001b[0m \u001b[0;34m\u001b[0m\u001b[0m\n",
            "\u001b[0;32m/usr/local/lib/python3.10/dist-packages/ipython_genutils/py3compat.py\u001b[0m in \u001b[0;36msafe_unicode\u001b[0;34m(e)\u001b[0m\n\u001b[1;32m     63\u001b[0m     \"\"\"\n\u001b[1;32m     64\u001b[0m     \u001b[0;32mtry\u001b[0m\u001b[0;34m:\u001b[0m\u001b[0;34m\u001b[0m\u001b[0;34m\u001b[0m\u001b[0m\n\u001b[0;32m---> 65\u001b[0;31m         \u001b[0;32mreturn\u001b[0m \u001b[0municode_type\u001b[0m\u001b[0;34m(\u001b[0m\u001b[0me\u001b[0m\u001b[0;34m)\u001b[0m\u001b[0;34m\u001b[0m\u001b[0;34m\u001b[0m\u001b[0m\n\u001b[0m\u001b[1;32m     66\u001b[0m     \u001b[0;32mexcept\u001b[0m \u001b[0mUnicodeError\u001b[0m\u001b[0;34m:\u001b[0m\u001b[0;34m\u001b[0m\u001b[0;34m\u001b[0m\u001b[0m\n\u001b[1;32m     67\u001b[0m         \u001b[0;32mpass\u001b[0m\u001b[0;34m\u001b[0m\u001b[0;34m\u001b[0m\u001b[0m\n",
            "\u001b[0;32m/usr/local/lib/python3.10/dist-packages/py4j/protocol.py\u001b[0m in \u001b[0;36m__str__\u001b[0;34m(self)\u001b[0m\n\u001b[1;32m    469\u001b[0m     \u001b[0;32mdef\u001b[0m \u001b[0m__str__\u001b[0m\u001b[0;34m(\u001b[0m\u001b[0mself\u001b[0m\u001b[0;34m)\u001b[0m\u001b[0;34m:\u001b[0m\u001b[0;34m\u001b[0m\u001b[0;34m\u001b[0m\u001b[0m\n\u001b[1;32m    470\u001b[0m         \u001b[0mgateway_client\u001b[0m \u001b[0;34m=\u001b[0m \u001b[0mself\u001b[0m\u001b[0;34m.\u001b[0m\u001b[0mjava_exception\u001b[0m\u001b[0;34m.\u001b[0m\u001b[0m_gateway_client\u001b[0m\u001b[0;34m\u001b[0m\u001b[0;34m\u001b[0m\u001b[0m\n\u001b[0;32m--> 471\u001b[0;31m         \u001b[0manswer\u001b[0m \u001b[0;34m=\u001b[0m \u001b[0mgateway_client\u001b[0m\u001b[0;34m.\u001b[0m\u001b[0msend_command\u001b[0m\u001b[0;34m(\u001b[0m\u001b[0mself\u001b[0m\u001b[0;34m.\u001b[0m\u001b[0mexception_cmd\u001b[0m\u001b[0;34m)\u001b[0m\u001b[0;34m\u001b[0m\u001b[0;34m\u001b[0m\u001b[0m\n\u001b[0m\u001b[1;32m    472\u001b[0m         \u001b[0mreturn_value\u001b[0m \u001b[0;34m=\u001b[0m \u001b[0mget_return_value\u001b[0m\u001b[0;34m(\u001b[0m\u001b[0manswer\u001b[0m\u001b[0;34m,\u001b[0m \u001b[0mgateway_client\u001b[0m\u001b[0;34m,\u001b[0m \u001b[0;32mNone\u001b[0m\u001b[0;34m,\u001b[0m \u001b[0;32mNone\u001b[0m\u001b[0;34m)\u001b[0m\u001b[0;34m\u001b[0m\u001b[0;34m\u001b[0m\u001b[0m\n\u001b[1;32m    473\u001b[0m         \u001b[0;31m# Note: technically this should return a bytestring 'str' rather than\u001b[0m\u001b[0;34m\u001b[0m\u001b[0;34m\u001b[0m\u001b[0m\n",
            "\u001b[0;32m/usr/local/lib/python3.10/dist-packages/py4j/java_gateway.py\u001b[0m in \u001b[0;36msend_command\u001b[0;34m(self, command, retry, binary)\u001b[0m\n\u001b[1;32m   1034\u001b[0m          \u001b[0;32mif\u001b[0m\u001b[0;31m \u001b[0m\u001b[0;31m`\u001b[0m\u001b[0mbinary\u001b[0m\u001b[0;31m`\u001b[0m \u001b[0;32mis\u001b[0m\u001b[0;31m \u001b[0m\u001b[0;31m`\u001b[0m\u001b[0;32mTrue\u001b[0m\u001b[0;31m`\u001b[0m\u001b[0;34m.\u001b[0m\u001b[0;34m\u001b[0m\u001b[0;34m\u001b[0m\u001b[0m\n\u001b[1;32m   1035\u001b[0m         \"\"\"\n\u001b[0;32m-> 1036\u001b[0;31m         \u001b[0mconnection\u001b[0m \u001b[0;34m=\u001b[0m \u001b[0mself\u001b[0m\u001b[0;34m.\u001b[0m\u001b[0m_get_connection\u001b[0m\u001b[0;34m(\u001b[0m\u001b[0;34m)\u001b[0m\u001b[0;34m\u001b[0m\u001b[0;34m\u001b[0m\u001b[0m\n\u001b[0m\u001b[1;32m   1037\u001b[0m         \u001b[0;32mtry\u001b[0m\u001b[0;34m:\u001b[0m\u001b[0;34m\u001b[0m\u001b[0;34m\u001b[0m\u001b[0m\n\u001b[1;32m   1038\u001b[0m             \u001b[0mresponse\u001b[0m \u001b[0;34m=\u001b[0m \u001b[0mconnection\u001b[0m\u001b[0;34m.\u001b[0m\u001b[0msend_command\u001b[0m\u001b[0;34m(\u001b[0m\u001b[0mcommand\u001b[0m\u001b[0;34m)\u001b[0m\u001b[0;34m\u001b[0m\u001b[0;34m\u001b[0m\u001b[0m\n",
            "\u001b[0;32m/usr/local/lib/python3.10/dist-packages/py4j/clientserver.py\u001b[0m in \u001b[0;36m_get_connection\u001b[0;34m(self)\u001b[0m\n\u001b[1;32m    282\u001b[0m \u001b[0;34m\u001b[0m\u001b[0m\n\u001b[1;32m    283\u001b[0m         \u001b[0;32mif\u001b[0m \u001b[0mconnection\u001b[0m \u001b[0;32mis\u001b[0m \u001b[0;32mNone\u001b[0m \u001b[0;32mor\u001b[0m \u001b[0mconnection\u001b[0m\u001b[0;34m.\u001b[0m\u001b[0msocket\u001b[0m \u001b[0;32mis\u001b[0m \u001b[0;32mNone\u001b[0m\u001b[0;34m:\u001b[0m\u001b[0;34m\u001b[0m\u001b[0;34m\u001b[0m\u001b[0m\n\u001b[0;32m--> 284\u001b[0;31m             \u001b[0mconnection\u001b[0m \u001b[0;34m=\u001b[0m \u001b[0mself\u001b[0m\u001b[0;34m.\u001b[0m\u001b[0m_create_new_connection\u001b[0m\u001b[0;34m(\u001b[0m\u001b[0;34m)\u001b[0m\u001b[0;34m\u001b[0m\u001b[0;34m\u001b[0m\u001b[0m\n\u001b[0m\u001b[1;32m    285\u001b[0m         \u001b[0;32mreturn\u001b[0m \u001b[0mconnection\u001b[0m\u001b[0;34m\u001b[0m\u001b[0;34m\u001b[0m\u001b[0m\n\u001b[1;32m    286\u001b[0m \u001b[0;34m\u001b[0m\u001b[0m\n",
            "\u001b[0;32m/usr/local/lib/python3.10/dist-packages/py4j/clientserver.py\u001b[0m in \u001b[0;36m_create_new_connection\u001b[0;34m(self)\u001b[0m\n\u001b[1;32m    289\u001b[0m             \u001b[0mself\u001b[0m\u001b[0;34m.\u001b[0m\u001b[0mjava_parameters\u001b[0m\u001b[0;34m,\u001b[0m \u001b[0mself\u001b[0m\u001b[0;34m.\u001b[0m\u001b[0mpython_parameters\u001b[0m\u001b[0;34m,\u001b[0m\u001b[0;34m\u001b[0m\u001b[0;34m\u001b[0m\u001b[0m\n\u001b[1;32m    290\u001b[0m             self.gateway_property, self)\n\u001b[0;32m--> 291\u001b[0;31m         \u001b[0mconnection\u001b[0m\u001b[0;34m.\u001b[0m\u001b[0mconnect_to_java_server\u001b[0m\u001b[0;34m(\u001b[0m\u001b[0;34m)\u001b[0m\u001b[0;34m\u001b[0m\u001b[0;34m\u001b[0m\u001b[0m\n\u001b[0m\u001b[1;32m    292\u001b[0m         \u001b[0mself\u001b[0m\u001b[0;34m.\u001b[0m\u001b[0mset_thread_connection\u001b[0m\u001b[0;34m(\u001b[0m\u001b[0mconnection\u001b[0m\u001b[0;34m)\u001b[0m\u001b[0;34m\u001b[0m\u001b[0;34m\u001b[0m\u001b[0m\n\u001b[1;32m    293\u001b[0m         \u001b[0;32mreturn\u001b[0m \u001b[0mconnection\u001b[0m\u001b[0;34m\u001b[0m\u001b[0;34m\u001b[0m\u001b[0m\n",
            "\u001b[0;32m/usr/local/lib/python3.10/dist-packages/py4j/clientserver.py\u001b[0m in \u001b[0;36mconnect_to_java_server\u001b[0;34m(self)\u001b[0m\n\u001b[1;32m    436\u001b[0m                 self.socket = self.ssl_context.wrap_socket(\n\u001b[1;32m    437\u001b[0m                     self.socket, server_hostname=self.java_address)\n\u001b[0;32m--> 438\u001b[0;31m             \u001b[0mself\u001b[0m\u001b[0;34m.\u001b[0m\u001b[0msocket\u001b[0m\u001b[0;34m.\u001b[0m\u001b[0mconnect\u001b[0m\u001b[0;34m(\u001b[0m\u001b[0;34m(\u001b[0m\u001b[0mself\u001b[0m\u001b[0;34m.\u001b[0m\u001b[0mjava_address\u001b[0m\u001b[0;34m,\u001b[0m \u001b[0mself\u001b[0m\u001b[0;34m.\u001b[0m\u001b[0mjava_port\u001b[0m\u001b[0;34m)\u001b[0m\u001b[0;34m)\u001b[0m\u001b[0;34m\u001b[0m\u001b[0;34m\u001b[0m\u001b[0m\n\u001b[0m\u001b[1;32m    439\u001b[0m             \u001b[0mself\u001b[0m\u001b[0;34m.\u001b[0m\u001b[0mstream\u001b[0m \u001b[0;34m=\u001b[0m \u001b[0mself\u001b[0m\u001b[0;34m.\u001b[0m\u001b[0msocket\u001b[0m\u001b[0;34m.\u001b[0m\u001b[0mmakefile\u001b[0m\u001b[0;34m(\u001b[0m\u001b[0;34m\"rb\"\u001b[0m\u001b[0;34m)\u001b[0m\u001b[0;34m\u001b[0m\u001b[0;34m\u001b[0m\u001b[0m\n\u001b[1;32m    440\u001b[0m             \u001b[0mself\u001b[0m\u001b[0;34m.\u001b[0m\u001b[0mis_connected\u001b[0m \u001b[0;34m=\u001b[0m \u001b[0;32mTrue\u001b[0m\u001b[0;34m\u001b[0m\u001b[0;34m\u001b[0m\u001b[0m\n",
            "\u001b[0;31mConnectionRefusedError\u001b[0m: [Errno 111] Connection refused"
          ]
        }
      ]
    },
    {
      "cell_type": "code",
      "source": [
        "df_final.write.parquet(\"/content/drive/MyDrive/test/testing.parquet\", mode='overwrite')"
      ],
      "metadata": {
        "id": "-WKR4WAzRkyo"
      },
      "execution_count": null,
      "outputs": []
    },
    {
      "cell_type": "code",
      "source": [],
      "metadata": {
        "id": "W4vuf-dLR1jb"
      },
      "execution_count": null,
      "outputs": []
    }
  ]
}