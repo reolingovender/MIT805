{
  "cells": [
    {
      "cell_type": "markdown",
      "metadata": {
        "id": "view-in-github",
        "colab_type": "text"
      },
      "source": [
        "<a href=\"https://colab.research.google.com/github/reolingovender/MIT805/blob/main/Word_Count_Analysis_PySpark_Function.ipynb\" target=\"_parent\"><img src=\"https://colab.research.google.com/assets/colab-badge.svg\" alt=\"Open In Colab\"/></a>"
      ]
    },
    {
      "cell_type": "code",
      "execution_count": null,
      "metadata": {
        "id": "i15CRZN2SWII"
      },
      "outputs": [],
      "source": [
        "pip install datasets"
      ]
    },
    {
      "cell_type": "code",
      "execution_count": null,
      "metadata": {
        "id": "ROupQahiSdyN"
      },
      "outputs": [],
      "source": [
        "pip install pyspark"
      ]
    },
    {
      "cell_type": "code",
      "execution_count": null,
      "metadata": {
        "id": "JIbU-7I_SfWb"
      },
      "outputs": [],
      "source": [
        "from google.colab import drive\n",
        "drive.mount('/content/drive')"
      ]
    },
    {
      "cell_type": "code",
      "execution_count": null,
      "metadata": {
        "id": "gg9q1XOvShAu"
      },
      "outputs": [],
      "source": [
        "import datasets\n",
        "from datasets import load_dataset, load_from_disk\n",
        "import numpy as np\n",
        "import pandas as pd\n",
        "from pyspark.sql import SparkSession\n",
        "import pyspark.sql.functions as f\n",
        "from pyspark.sql.types import StructType, StructField, StringType, ArrayType, MapType, IntegerType, MapType, LongType, BooleanType, FloatType\n",
        "from pyspark.sql.functions import col, explode, expr, collect_list, when\n",
        "from pyspark.sql.functions import pandas_udf, PandasUDFType, col"
      ]
    },
    {
      "cell_type": "code",
      "execution_count": null,
      "metadata": {
        "id": "HQ4l_jGuSlaL"
      },
      "outputs": [],
      "source": [
        "# Initialize Spark session\n",
        "from pyspark.sql import SparkSession\n",
        "import pyspark.sql.functions as f\n",
        "\n",
        "spark = SparkSession.builder.appName(\"ResourceOptimizedSession\").master(\"local[*]\").config(\"spark.executor.memory\", \"100g\").config(\"spark.driver.memory\", \"50g\").config(\"spark.executor.cores\", \"8\").config(\"spark.sql.shuffle.partitions\", \"200\").getOrCreate()"
      ]
    },
    {
      "cell_type": "code",
      "execution_count": null,
      "metadata": {
        "id": "9WQFP15nU-1S"
      },
      "outputs": [],
      "source": [
        "def word_count(year):\n",
        "  datasets.logging.set_verbosity_error()\n",
        "  dataset = load_from_disk(\"/content/drive/MyDrive/MIT805/Merged/Books_{}\".format(year))\n",
        "\n",
        "  df = dataset.to_pandas()\n",
        "  df['categories'] = df['categories'].apply(lambda x: ', '.join(x) if len(x) > 0 else '').astype(str)\n",
        "  df = df[['rating', 'title', 'text', 'asin', 'parent_asin', 'user_id', 'timestamp', 'helpful_vote', 'verified_purchase', 'book_title', 'price', 'store', 'categories']]\n",
        "\n",
        "  # Convert Pandas DataFrames to PySpark DataFrames\n",
        "  pyspark_df_reviews = spark.createDataFrame(df)\n",
        "\n",
        "  # Convert 'timestamp' to correct formatting\n",
        "  pyspark_df_reviews = pyspark_df_reviews.withColumn(\"timestamp\", f.date_format(f.from_unixtime(col(\"timestamp\") / 1000), \"yyyy-MM-dd\")).filter(\"cast(price as int) > 0\").na.drop()\n",
        "\n",
        "  pyspark_df_reviews = pyspark_df_reviews.withColumn(\"text\", f.regexp_replace(col(\"text\"), \"[^a-zA-Z0-9 ]\", \"\"))\\\n",
        "                                       .withColumn(\"word_count\", f.size(f.split(col(\"text\"), \" \")))\\\n",
        "                                       .select('rating', 'asin', 'parent_asin', 'user_id', 'timestamp', 'helpful_vote', 'verified_purchase','book_title', 'price', 'store', 'categories', 'word_count')\n",
        "\n",
        "  pyspark_df_reviews.write.csv(\"/content/drive/MyDrive/MIT805/Results/Word_Count_Analysis/{}/\".format(year), header=True, mode=\"overwrite\")\n",
        "  print(\"Year {} is done!\".format(year))"
      ]
    },
    {
      "cell_type": "code",
      "execution_count": null,
      "metadata": {
        "colab": {
          "background_save": true
        },
        "id": "ozwHw6BgT7fG"
      },
      "outputs": [],
      "source": [
        "for year in range(2015, 2024):\n",
        "  word_count(year)"
      ]
    },
    {
      "cell_type": "code",
      "execution_count": null,
      "metadata": {
        "id": "UIJBVjB-VWGh"
      },
      "outputs": [],
      "source": []
    }
  ],
  "metadata": {
    "accelerator": "TPU",
    "colab": {
      "gpuType": "V28",
      "machine_shape": "hm",
      "provenance": [],
      "authorship_tag": "ABX9TyO2a+3PMgUNv3CjzQyWkbVE",
      "include_colab_link": true
    },
    "kernelspec": {
      "display_name": "Python 3",
      "name": "python3"
    },
    "language_info": {
      "name": "python"
    }
  },
  "nbformat": 4,
  "nbformat_minor": 0
}