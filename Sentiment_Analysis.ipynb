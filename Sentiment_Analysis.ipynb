{
  "nbformat": 4,
  "nbformat_minor": 0,
  "metadata": {
    "colab": {
      "provenance": [],
      "machine_shape": "hm",
      "gpuType": "V28",
      "include_colab_link": true
    },
    "kernelspec": {
      "name": "python3",
      "display_name": "Python 3"
    },
    "language_info": {
      "name": "python"
    },
    "accelerator": "TPU"
  },
  "cells": [
    {
      "cell_type": "markdown",
      "metadata": {
        "id": "view-in-github",
        "colab_type": "text"
      },
      "source": [
        "<a href=\"https://colab.research.google.com/github/reolingovender/MIT805/blob/main/Sentiment_Analysis.ipynb\" target=\"_parent\"><img src=\"https://colab.research.google.com/assets/colab-badge.svg\" alt=\"Open In Colab\"/></a>"
      ]
    },
    {
      "cell_type": "code",
      "execution_count": null,
      "metadata": {
        "id": "FMq149veStyA"
      },
      "outputs": [],
      "source": [
        "pip install datasets"
      ]
    },
    {
      "cell_type": "code",
      "source": [
        "pip install pyspark"
      ],
      "metadata": {
        "id": "e-0iKqA8ZEXF"
      },
      "execution_count": null,
      "outputs": []
    },
    {
      "cell_type": "code",
      "source": [
        "pip install emoji"
      ],
      "metadata": {
        "id": "wEbRKeUY38fR"
      },
      "execution_count": null,
      "outputs": []
    },
    {
      "cell_type": "code",
      "source": [
        "pip uninstall -y tensorflow"
      ],
      "metadata": {
        "id": "ZO5l3SDtfT43"
      },
      "execution_count": null,
      "outputs": []
    },
    {
      "cell_type": "code",
      "source": [
        "pip install tensorflow-cpu"
      ],
      "metadata": {
        "id": "-bghjj2ffWoL"
      },
      "execution_count": null,
      "outputs": []
    },
    {
      "cell_type": "code",
      "source": [
        "from google.colab import drive\n",
        "drive.mount('/content/drive')"
      ],
      "metadata": {
        "id": "72khWaENVRhi"
      },
      "execution_count": null,
      "outputs": []
    },
    {
      "cell_type": "code",
      "source": [
        "import datasets\n",
        "from datasets import load_dataset, load_from_disk\n",
        "import numpy as np\n",
        "import pandas as pd\n",
        "import emoji\n",
        "import nltk.classify.util\n",
        "from nltk.classify import NaiveBayesClassifier\n",
        "import numpy as np\n",
        "import re\n",
        "import string\n",
        "import nltk\n",
        "from gensim.parsing.preprocessing import remove_stopwords\n",
        "from transformers import pipeline\n",
        "from pyspark.sql.functions import udf, col"
      ],
      "metadata": {
        "id": "5j7tYTI6UiBF"
      },
      "execution_count": null,
      "outputs": []
    },
    {
      "cell_type": "code",
      "source": [
        "# Initialize Spark session\n",
        "from pyspark.sql import SparkSession\n",
        "import pyspark.sql.functions as f\n",
        "\n",
        "spark = SparkSession.builder.appName(\"ResourceOptimizedSession\").master(\"local[*]\").config(\"spark.executor.memory\", \"100g\").config(\"spark.driver.memory\", \"50g\").config(\"spark.executor.cores\", \"8\").config(\"spark.sql.shuffle.partitions\", \"200\").getOrCreate()"
      ],
      "metadata": {
        "id": "6Z4LYgwuY5cK"
      },
      "execution_count": null,
      "outputs": []
    },
    {
      "cell_type": "code",
      "source": [
        "datasets.logging.set_verbosity_error()\n",
        "year = 2022\n",
        "dataset = load_from_disk(\"/content/drive/MyDrive/MIT805/Merged/Books_{}\".format(year))"
      ],
      "metadata": {
        "id": "kDipLdO0UmeA"
      },
      "execution_count": null,
      "outputs": []
    },
    {
      "cell_type": "code",
      "source": [
        "df = dataset.to_pandas()\n",
        "df['categories'] = df['categories'].apply(lambda x: ', '.join(x) if len(x) > 0 else '').astype(str)\n",
        "df = df[['rating', 'title', 'text', 'asin', 'parent_asin', 'user_id', 'timestamp', 'helpful_vote', 'verified_purchase', 'book_title', 'price', 'store', 'categories']]\n",
        "df.head()"
      ],
      "metadata": {
        "id": "Y2HBrwdvUq7o"
      },
      "execution_count": null,
      "outputs": []
    },
    {
      "cell_type": "code",
      "source": [
        "# Convert Pandas DataFrames to PySpark DataFrames\n",
        "pyspark_df_reviews = spark.createDataFrame(df)\n",
        "\n",
        "# Convert 'timestamp' to correct formatting\n",
        "pyspark_df_reviews = pyspark_df_reviews.withColumn(\"timestamp\", f.date_format(f.from_unixtime(col(\"timestamp\") / 1000), \"yyyy-MM-dd\")).filter(\"cast(price as int) > 0\").na.drop()\n",
        "\n",
        "# Show the final DataFrame\n",
        "pyspark_df_reviews.show()"
      ],
      "metadata": {
        "id": "UnFJzHnYZLqQ"
      },
      "execution_count": null,
      "outputs": []
    },
    {
      "cell_type": "code",
      "source": [
        "pyspark_df_reviews.count()"
      ],
      "metadata": {
        "id": "VCixo73l7mWj"
      },
      "execution_count": null,
      "outputs": []
    },
    {
      "cell_type": "code",
      "source": [
        "n = 100000\n",
        "pyspark_df_reviews = pyspark_df_reviews.orderBy(f.rand()).limit(n)\n",
        "pyspark_df_reviews.count()"
      ],
      "metadata": {
        "id": "hVs5J_Bi67BG"
      },
      "execution_count": null,
      "outputs": []
    },
    {
      "cell_type": "code",
      "source": [
        "from transformers import AutoModelForSequenceClassification, AutoTokenizer\n",
        "\n",
        "# Define the path where the model is saved\n",
        "save_directory = \"/content/drive/MyDrive/MIT805/sentiment_analysis_model/saved_model\"\n",
        "\n",
        "# Load the model and tokenizer from the saved directory\n",
        "model = AutoModelForSequenceClassification.from_pretrained(save_directory)\n",
        "tokenizer = AutoTokenizer.from_pretrained(save_directory)\n",
        "\n",
        "# Use the loaded model and tokenizer\n",
        "print(\"Model and tokenizer loaded successfully!\")\n",
        "\n",
        "# Initialize the sentiment analysis pipeline with the loaded model and tokenizer\n",
        "classifier = pipeline(\"sentiment-analysis\", model=model, tokenizer=tokenizer)\n",
        "\n",
        "# Compile regex for cleaning\n",
        "cleanup_re = re.compile('[^a-z]+')\n",
        "\n",
        "# Convert emoji to words\n",
        "def demoji(text):\n",
        "    return emoji.demojize(text)\n",
        "\n",
        "# Clean up the text\n",
        "def cleanup(sentence):\n",
        "    sentence = str(sentence).lower()\n",
        "    sentence = cleanup_re.sub(' ', sentence).strip()\n",
        "    return sentence\n",
        "\n",
        "# Classify the sentiment and return the score\n",
        "def classifier_func(text):\n",
        "    try:\n",
        "        return float(classifier(text)[0]['score'])\n",
        "    except Exception as e:\n",
        "        print(f\"Error processing text: {text}, {e}\")\n",
        "        return None"
      ],
      "metadata": {
        "id": "a85F6vWt6dgx"
      },
      "execution_count": null,
      "outputs": []
    },
    {
      "cell_type": "code",
      "source": [
        "from pyspark.sql.types import FloatType, IntegerType, StringType\n",
        "\n",
        "# Register UDFs with PySpark\n",
        "demoji_udf = udf(demoji, StringType())\n",
        "cleanup_udf = udf(cleanup, StringType())\n",
        "classifier_udf = udf(classifier_func, FloatType())\n",
        "\n",
        "# Apply UDFs to the PySpark DataFrame\n",
        "pyspark_df_reviews = pyspark_df_reviews.withColumn(\"cleaned_text\", demoji_udf(col(\"text\")))\n",
        "pyspark_df_reviews = pyspark_df_reviews.withColumn(\"cleaned_text\", cleanup_udf(col(\"cleaned_text\")))\n",
        "pyspark_df_reviews = pyspark_df_reviews.withColumn(\"sentiment_score\", classifier_udf(col(\"cleaned_text\")))\n",
        "\n",
        "# Show the results\n",
        "pyspark_df_reviews = pyspark_df_reviews.select(\"title\", \"rating\", \"helpful_vote\", 'asin', 'parent_asin', 'timestamp', 'verified_purchase','sentiment_score').na.drop()"
      ],
      "metadata": {
        "id": "QoGjBNDMb9rL"
      },
      "execution_count": null,
      "outputs": []
    },
    {
      "cell_type": "code",
      "source": [
        "pyspark_df_reviews.count()"
      ],
      "metadata": {
        "id": "2jfQ_rr_JWAi"
      },
      "execution_count": null,
      "outputs": []
    },
    {
      "cell_type": "code",
      "source": [
        "# Write DataFrame to CSV\n",
        "pyspark_df_reviews.write.csv(\"/content/drive/MyDrive/MIT805/Results/Sentiment_Analysis/{}/\".format(year), header=True, mode=\"overwrite\")"
      ],
      "metadata": {
        "id": "JvGKgRPVlmQ7"
      },
      "execution_count": null,
      "outputs": []
    },
    {
      "cell_type": "code",
      "source": [],
      "metadata": {
        "id": "y_c10Q0iVjQe"
      },
      "execution_count": null,
      "outputs": []
    }
  ]
}