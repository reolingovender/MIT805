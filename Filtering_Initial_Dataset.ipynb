{
  "nbformat": 4,
  "nbformat_minor": 0,
  "metadata": {
    "colab": {
      "provenance": [],
      "machine_shape": "hm",
      "gpuType": "V28"
    },
    "kernelspec": {
      "name": "python3",
      "display_name": "Python 3"
    },
    "language_info": {
      "name": "python"
    },
    "accelerator": "TPU"
  },
  "cells": [
    {
      "cell_type": "code",
      "execution_count": null,
      "metadata": {
        "id": "lBGiTdYMnIcg"
      },
      "outputs": [],
      "source": [
        "pip install datasets"
      ]
    },
    {
      "cell_type": "code",
      "source": [
        "from google.colab import drive\n",
        "drive.mount('/content/drive')"
      ],
      "metadata": {
        "id": "29Ufbk2y5FNB"
      },
      "execution_count": null,
      "outputs": []
    },
    {
      "cell_type": "code",
      "source": [
        "import datasets\n",
        "from datasets import load_dataset, load_from_disk\n",
        "import numpy as np\n",
        "import pandas as pd\n",
        "from datasets import Dataset"
      ],
      "metadata": {
        "id": "uHPaGFwDnI1J"
      },
      "execution_count": null,
      "outputs": []
    },
    {
      "cell_type": "code",
      "source": [
        "datasets.logging.set_verbosity_error()\n",
        "dataset = load_dataset(\"McAuley-Lab/Amazon-Reviews-2023\", \"raw_review_Books\", trust_remote_code=True)"
      ],
      "metadata": {
        "id": "cM2XNSq2nMEn"
      },
      "execution_count": null,
      "outputs": []
    },
    {
      "cell_type": "code",
      "source": [
        "from datetime import datetime\n",
        "\n",
        "year = 2010\n",
        "\n",
        "def filter_by_year(example):\n",
        "    # Convert the timestamp from milliseconds to a datetime object\n",
        "    dt = datetime.fromtimestamp(example['timestamp'] / 1000)\n",
        "    return dt.year == year\n",
        "\n",
        "# Apply the filter\n",
        "filtered_dataset = dataset['full'].filter(filter_by_year)\n",
        "\n",
        "filtered_dataset.save_to_disk(\"/content/drive/MyDrive/MIT805/Books_{}\".format(year))"
      ],
      "metadata": {
        "id": "7sNjdLr6nUla"
      },
      "execution_count": null,
      "outputs": []
    },
    {
      "cell_type": "code",
      "source": [
        "datasets.logging.set_verbosity_error()\n",
        "dataset_meta = load_from_disk(\"/content/drive/MyDrive/MIT805/Books_MetaData\")\n",
        "df_meta = dataset_meta.to_pandas()\n",
        "df_meta.rename(columns={'title': 'book_title'}, inplace=True)"
      ],
      "metadata": {
        "id": "QoS5NXn2fPzB"
      },
      "execution_count": null,
      "outputs": []
    },
    {
      "cell_type": "code",
      "source": [
        "for year in range(2010, 2024):\n",
        "  datasets.logging.set_verbosity_error()\n",
        "  dataset = load_from_disk(\"/content/drive/MyDrive/MIT805/Books_{}\".format(year))\n",
        "  df = dataset.to_pandas()\n",
        "\n",
        "  merged_df = pd.merge(df, df_meta[['book_title', 'price', 'store', 'categories','parent_asin']], on='parent_asin')\n",
        "  merged_df = merged_df[merged_df['price'] != \"None\"]\n",
        "\n",
        "  hf_dataset = Dataset.from_pandas(merged_df)\n",
        "  hf_dataset.save_to_disk(\"/content/drive/MyDrive/MIT805/Merged/Books_{}\".format(year))\n",
        "  print('Year {} is done!'.format(year))"
      ],
      "metadata": {
        "id": "hr5zZeafVr1a"
      },
      "execution_count": null,
      "outputs": []
    },
    {
      "cell_type": "code",
      "source": [],
      "metadata": {
        "id": "fpnc4Ccaq6-R"
      },
      "execution_count": null,
      "outputs": []
    }
  ]
}